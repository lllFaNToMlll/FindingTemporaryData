{
  "nbformat": 4,
  "nbformat_minor": 0,
  "metadata": {
    "kernelspec": {
      "display_name": "Python 3",
      "language": "python",
      "name": "python3"
    },
    "language_info": {
      "codemirror_mode": {
        "name": "ipython",
        "version": 3
      },
      "file_extension": ".py",
      "mimetype": "text/x-python",
      "name": "python",
      "nbconvert_exporter": "python",
      "pygments_lexer": "ipython3",
      "version": "3.8.5"
    },
    "colab": {
      "name": "Копия блокнота \"extracting times.ipynb\"",
      "provenance": [],
      "collapsed_sections": []
    }
  },
  "cells": [
    {
      "cell_type": "code",
      "metadata": {
        "colab": {
          "base_uri": "https://localhost:8080/"
        },
        "id": "sJ9nLOaiHoRO",
        "outputId": "70ffb0fb-e3ef-4e71-fed9-d4565c068c38"
      },
      "source": [
        "\n",
        "!pip install natasha\n",
        "from natasha import Segmenter,MorphVocab,NewsEmbedding,NewsMorphTagger,Doc\n",
        "import re\n",
        "import string"
      ],
      "execution_count": null,
      "outputs": [
        {
          "output_type": "stream",
          "text": [
            "Collecting natasha\n",
            "\u001b[?25l  Downloading https://files.pythonhosted.org/packages/51/8e/ab0745100be276750fb6b8858c6180a1756696572295a74eb5aea77f3bbd/natasha-1.4.0-py3-none-any.whl (34.4MB)\n",
            "\u001b[K     |████████████████████████████████| 34.4MB 25.4MB/s \n",
            "\u001b[?25hCollecting slovnet>=0.3.0\n",
            "\u001b[?25l  Downloading https://files.pythonhosted.org/packages/a9/3b/f1ef495be8990004959dd0510c95f688d1b07529f6a862bc56a405770b26/slovnet-0.5.0-py3-none-any.whl (49kB)\n",
            "\u001b[K     |████████████████████████████████| 51kB 6.4MB/s \n",
            "\u001b[?25hCollecting pymorphy2\n",
            "\u001b[?25l  Downloading https://files.pythonhosted.org/packages/07/57/b2ff2fae3376d4f3c697b9886b64a54b476e1a332c67eee9f88e7f1ae8c9/pymorphy2-0.9.1-py3-none-any.whl (55kB)\n",
            "\u001b[K     |████████████████████████████████| 61kB 7.4MB/s \n",
            "\u001b[?25hCollecting navec>=0.9.0\n",
            "  Downloading https://files.pythonhosted.org/packages/bc/c1/771ec5565f0ce24874d7fd325b429f9caa80517a40d2e4ce5705120591f3/navec-0.10.0-py3-none-any.whl\n",
            "Collecting yargy>=0.14.0\n",
            "\u001b[?25l  Downloading https://files.pythonhosted.org/packages/d3/46/bc1a17200a55f4b0608f39ac64f1840fd4a52f9eeea462d9afecbf71246b/yargy-0.15.0-py3-none-any.whl (41kB)\n",
            "\u001b[K     |████████████████████████████████| 51kB 6.1MB/s \n",
            "\u001b[?25hCollecting ipymarkup>=0.8.0\n",
            "  Downloading https://files.pythonhosted.org/packages/bf/9b/bf54c98d50735a4a7c84c71e92c5361730c878ebfe903d2c2d196ef66055/ipymarkup-0.9.0-py3-none-any.whl\n",
            "Collecting razdel>=0.5.0\n",
            "  Downloading https://files.pythonhosted.org/packages/15/2c/664223a3924aa6e70479f7d37220b3a658765b9cfe760b4af7ffdc50d38f/razdel-0.5.0-py3-none-any.whl\n",
            "Requirement already satisfied: numpy in /usr/local/lib/python3.7/dist-packages (from slovnet>=0.3.0->natasha) (1.19.5)\n",
            "Collecting dawg-python>=0.7.1\n",
            "  Downloading https://files.pythonhosted.org/packages/6a/84/ff1ce2071d4c650ec85745766c0047ccc3b5036f1d03559fd46bb38b5eeb/DAWG_Python-0.7.2-py2.py3-none-any.whl\n",
            "Requirement already satisfied: docopt>=0.6 in /usr/local/lib/python3.7/dist-packages (from pymorphy2->natasha) (0.6.2)\n",
            "Collecting pymorphy2-dicts-ru<3.0,>=2.4\n",
            "\u001b[?25l  Downloading https://files.pythonhosted.org/packages/3a/79/bea0021eeb7eeefde22ef9e96badf174068a2dd20264b9a378f2be1cdd9e/pymorphy2_dicts_ru-2.4.417127.4579844-py2.py3-none-any.whl (8.2MB)\n",
            "\u001b[K     |████████████████████████████████| 8.2MB 37.0MB/s \n",
            "\u001b[?25hCollecting intervaltree>=3\n",
            "  Downloading https://files.pythonhosted.org/packages/50/fb/396d568039d21344639db96d940d40eb62befe704ef849b27949ded5c3bb/intervaltree-3.1.0.tar.gz\n",
            "Requirement already satisfied: sortedcontainers<3.0,>=2.0 in /usr/local/lib/python3.7/dist-packages (from intervaltree>=3->ipymarkup>=0.8.0->natasha) (2.4.0)\n",
            "Building wheels for collected packages: intervaltree\n",
            "  Building wheel for intervaltree (setup.py) ... \u001b[?25l\u001b[?25hdone\n",
            "  Created wheel for intervaltree: filename=intervaltree-3.1.0-py2.py3-none-any.whl size=26102 sha256=2d2f8e7a84f58fc958f46a909a3581281e2b2d439dd94f5ede060e540ec449d6\n",
            "  Stored in directory: /root/.cache/pip/wheels/f3/f2/66/e9c30d3e9499e65ea2fa0d07c002e64de63bd0adaa49c445bf\n",
            "Successfully built intervaltree\n",
            "Installing collected packages: navec, razdel, slovnet, dawg-python, pymorphy2-dicts-ru, pymorphy2, yargy, intervaltree, ipymarkup, natasha\n",
            "  Found existing installation: intervaltree 2.1.0\n",
            "    Uninstalling intervaltree-2.1.0:\n",
            "      Successfully uninstalled intervaltree-2.1.0\n",
            "Successfully installed dawg-python-0.7.2 intervaltree-3.1.0 ipymarkup-0.9.0 natasha-1.4.0 navec-0.10.0 pymorphy2-0.9.1 pymorphy2-dicts-ru-2.4.417127.4579844 razdel-0.5.0 slovnet-0.5.0 yargy-0.15.0\n"
          ],
          "name": "stdout"
        }
      ]
    },
    {
      "cell_type": "code",
      "metadata": {
        "id": "BEIKYo7zHoRb"
      },
      "source": [
        "segmenter = Segmenter()\n",
        "morph_vocab = MorphVocab()\n",
        "\n",
        "emb = NewsEmbedding()\n",
        "morph_tagger = NewsMorphTagger(emb)"
      ],
      "execution_count": null,
      "outputs": []
    },
    {
      "cell_type": "markdown",
      "metadata": {
        "id": "QGX3oF4ElSeR"
      },
      "source": [
        "на 10 янв в 288818\n",
        "15.05.2015\n",
        "15.05.15\n",
        "2015.05.15\n",
        "05.15.2015\n",
        "2016-05-25\n",
        "16-05-25\n",
        "в начало январь\n",
        "в 2 половина январь\n",
        "в конец июль начало август 2020 год\n",
        "по дата сдвинуть на 1 год\n",
        "в лето этот год\n",
        "15 май 2015 год\n",
        "15 май 2015\n",
        "15.05\n",
        "15 май\n",
        "В 2015 год\n",
        "в апрель 2012\n",
        "в апрель 2012 год\n",
        "в октябрь-ноябрь 2011\n",
        "в октябрь-ноябрь 2011 год\n",
        "в 1 квартал 2012 год\n",
        "в 1 квартал 2012\n",
        "в 3-4 квартал 2011 год\n",
        "в 3-4 квартал 2011\n",
        "первый квартал 2001\n",
        "в первый полугодие 2012 год\n",
        "в первый полугодие 2012\n",
        "в 1 полугодие 2012 год\n",
        "в 1 полугодие 2012\n",
        "2000-2002\n",
        "весна 2015 год\n",
        "весна 2015\n",
        "вчера; сегодня; завтра; послезавтра; позавчера\n",
        "год назад; два год назад; семь лет назад\n",
        "3 год назад 7 лет назад\n",
        "через три год; через пять лет\n",
        "через 3 год; через 5 лет\n",
        "месяц назад; два месяц назад; семь месяц назад\n",
        "3 месяц назад; 7 месяц назад\n",
        "через три месяц; через пять месяц\n",
        "через 3 месяц; через 5 месяц\n",
        "в прошлый год; в позапрошлый месяц; на той неделя\n",
        "в следующий год; на будущий неделя\n",
        "в текущий год\n",
        "в текущий месяц\n",
        "текущий год\n",
        "текущий месяц"
      ]
    },
    {
      "cell_type": "markdown",
      "metadata": {
        "id": "cifRr_2-lXOj"
      },
      "source": [
        "\"\"\"80% респондентов в опросе, организованном информационным агентством Kyodo, выступили против проведения Олимпийских Игр в Токио летом этого года. 35% японцев считают, что в условиях текущей эпидемиологической обстановки необходимо отменить любые международные соревнования. Еще почти 45% уверены, что необходимо снова изменить даты проведения турнира.\n",
        "По данным на 10 янв., в Японии подтверждено 288 818 случаев коронавируса, 3 850 человек умерли от новой инфекции. В начале января власти нескольких соседних с Токио префектур объявили режим чрезвычайной ситуации из-за распространения COVID-19. Премьер-министр Японии Есихидэ Суга ранее утверждал, что вакцинация населения страны начнется во второй половине января.\n",
        "Игры должны были состояться в конце июля — начале августа 2020 года. Однако по решению Международного олимпийского комитета даты проведения Олимпиады сдвинули ровно на один год.\n",
        "\"\"\""
      ]
    },
    {
      "cell_type": "code",
      "metadata": {
        "id": "_oP6-7CnHoRd"
      },
      "source": [
        "text = \"\"\"на 10 янв в 288818 15.05.2015 15.05.15 2015.05.15 05.15.2015 2016-05-25 16-05-25 в начало январь в 2 половина январь в конец июль начало август 2020 год по дата сдвинуть на 1 год в лето этот год 15 май 2015 год 15 май 2015 15.05 15 май В 2015 год в апрель 2012 в апрель 2012 год в октябрь-ноябрь 2011 в октябрь-ноябрь 2011 год в 1 квартал 2012 год в 1 квартал 2012 в 3-4 квартал 2011 год в 3-4 квартал 2011 первый квартал 2001 в первый полугодие 2012 год в первый полугодие 2012 в 1 полугодие 2012 год в 1 полугодие 2012 2000-2002 весна 2015 год весна 2015 вчера; сегодня; завтра; послезавтра; позавчера год назад; два год назад; семь лет назад 3 год назад 7 лет назад через три год; через пять лет через 3 год; через 5 лет месяц назад; два месяц назад; семь месяц назад 3 месяц назад; 7 месяц назад через три месяц; через пять месяц через 12 месяц; через 5 месяц в прошлый год; в позапрошлый месяц; на той неделя в следующий год; на будущий неделя в текущий год в текущий месяц текущий год текущий месяц\n",
        "\"\"\""
      ],
      "execution_count": null,
      "outputs": []
    },
    {
      "cell_type": "code",
      "metadata": {
        "colab": {
          "base_uri": "https://localhost:8080/",
          "height": 35
        },
        "id": "torCgFKwHoRe",
        "outputId": "80ecb339-c855-4a1c-8a65-e8d2eafb12f3"
      },
      "source": [
        "text"
      ],
      "execution_count": null,
      "outputs": [
        {
          "output_type": "execute_result",
          "data": {
            "application/vnd.google.colaboratory.intrinsic+json": {
              "type": "string"
            },
            "text/plain": [
              "'15 мая 2255\\n'"
            ]
          },
          "metadata": {
            "tags": []
          },
          "execution_count": 4
        }
      ]
    },
    {
      "cell_type": "code",
      "metadata": {
        "id": "uX_TtMYiHoRg"
      },
      "source": [
        "#Делю весь текст на предложения\n",
        "doc = Doc(text)\n",
        "doc.segment(segmenter)\n",
        "list_sent = []\n",
        "for sent in doc.sents:\n",
        "    list_sent.append(sent.text)"
      ],
      "execution_count": null,
      "outputs": []
    },
    {
      "cell_type": "code",
      "metadata": {
        "scrolled": true,
        "colab": {
          "base_uri": "https://localhost:8080/"
        },
        "id": "Yae2pwxfHoRi",
        "outputId": "a5f5f274-3e5b-495d-f182-87eb3db1ac63"
      },
      "source": [
        "list_sent"
      ],
      "execution_count": null,
      "outputs": [
        {
          "output_type": "execute_result",
          "data": {
            "text/plain": [
              "['15 мая 2255']"
            ]
          },
          "metadata": {
            "tags": []
          },
          "execution_count": 6
        }
      ]
    },
    {
      "cell_type": "code",
      "metadata": {
        "id": "6g8UwNOHHoRi"
      },
      "source": [
        "#Каждое предложение нормализую (все знаки препинания теперь будут стоять через пробел) и привожу к нижнему регистру\n",
        "doc.tag_morph(morph_tagger)\n",
        "for token in doc.tokens:\n",
        "    token.lemmatize(morph_vocab)\n",
        "list_norm_sent = []\n",
        "for sent in doc.sents:\n",
        "    text_norm = ''\n",
        "    for _ in sent.tokens:\n",
        "        if _ == doc.tokens[-1]:\n",
        "            text_norm += _.lemma\n",
        "        else:\n",
        "            text_norm += _.lemma + ' '\n",
        "    list_norm_sent.append(text_norm)"
      ],
      "execution_count": null,
      "outputs": []
    },
    {
      "cell_type": "code",
      "metadata": {
        "colab": {
          "base_uri": "https://localhost:8080/"
        },
        "id": "vkpyBbiDHoRj",
        "outputId": "d3376afe-b0fd-4a6a-d357-259bcc1bc386"
      },
      "source": [
        "list_norm_sent"
      ],
      "execution_count": null,
      "outputs": [
        {
          "output_type": "execute_result",
          "data": {
            "text/plain": [
              "['15 май 2255']"
            ]
          },
          "metadata": {
            "tags": []
          },
          "execution_count": 8
        }
      ]
    },
    {
      "cell_type": "code",
      "metadata": {
        "id": "mQlmQ66RHoRj"
      },
      "source": [
        "#Создаю словари всевозможных дат (все в нормальных формах)"
      ],
      "execution_count": null,
      "outputs": []
    },
    {
      "cell_type": "code",
      "metadata": {
        "id": "Hy6PzVuQrupm"
      },
      "source": [
        "dict_description_words = {\n",
        "    \"прошлый\",\n",
        "    \"прошедший\",\n",
        "    \"предыдущий\",\n",
        "    \"назад\",\n",
        "    \"ближайший\",\n",
        "    \"грядущий\",\n",
        "    \"сдвинуть\",\n",
        "    \"перенести\",\n",
        "    \"следующий\",\n",
        "    \"будущий\",\n",
        "    \"спустя\",\n",
        "    \"через\",\n",
        "    \"этот\",\n",
        "    \"текущий\",\n",
        "    \"нынешний\",\n",
        "    \"число\",\n",
        "    \"начало\",\n",
        "    \"конец\",\n",
        "    \"дата\"\n",
        "}"
      ],
      "execution_count": null,
      "outputs": []
    },
    {
      "cell_type": "code",
      "metadata": {
        "id": "xuTHNQgcHoRk"
      },
      "source": [
        "dict_date_words = {\n",
        "    \"секунда\",\n",
        "    \"минута\",\n",
        "    \"час\",\n",
        "    \"день\",\n",
        "    \"неделя\",\n",
        "    \"месяц\",\n",
        "    \"год\",\n",
        "    \"вчера\",\n",
        "    \"позавчера\",\n",
        "    \"послезавтра\",\n",
        "    \"завтра\",\n",
        "    \"сегодня\",\n",
        "    \"утро\",\n",
        "    \"полдень\",\n",
        "    \"вечер\",\n",
        "    \"ночь\",\n",
        "    \"половина\",\n",
        "    \"четверть\",\n",
        "    \"выходной\",\n",
        "    \"квартал\",\n",
        "    \"лето\",\n",
        "    \"осень\",\n",
        "    \"зима\",\n",
        "    \"весна\"}"
      ],
      "execution_count": null,
      "outputs": []
    },
    {
      "cell_type": "code",
      "metadata": {
        "id": "wgNJ4367VJLd"
      },
      "source": [
        "dict_prepositions = {\n",
        "    \"в\",\n",
        "    \"с\",\n",
        "    \"до\",\n",
        "    \"по\",\n",
        "    \"на\",\n",
        "    \"и\"}"
      ],
      "execution_count": null,
      "outputs": []
    },
    {
      "cell_type": "code",
      "metadata": {
        "id": "wcI0QSCsHoRk"
      },
      "source": [
        "dict_days_of_week = {\n",
        "    \"понедельник\",\n",
        "    \"вторник\",\n",
        "    \"среда\",\n",
        "    \"четверг\",\n",
        "    \"пятница\",\n",
        "    \"суббота\",\n",
        "    \"воскресенье\",\n",
        "    \"пон\",\n",
        "    \"вт\",\n",
        "    \"ср\",\n",
        "    \"чт\",\n",
        "    \"пт\",\n",
        "    \"сб\",\n",
        "    \"вс\"\n",
        "}"
      ],
      "execution_count": null,
      "outputs": []
    },
    {
      "cell_type": "code",
      "metadata": {
        "id": "u0gQSVbvHoRl"
      },
      "source": [
        "dict_months = {\n",
        "    \"январь\",\n",
        "    \"февраль\",\n",
        "    \"март\",\n",
        "    \"апрель\",\n",
        "    \"май\",\n",
        "    \"июнь\",\n",
        "    \"июль\",\n",
        "    \"август\",\n",
        "    \"сентябрь\",\n",
        "    \"октябрь\",\n",
        "    \"ноябрь\",\n",
        "    \"декабрь\",\n",
        "    \"янв\",\n",
        "    \"февр\",\n",
        "    \"апр\",\n",
        "    \"авг\",\n",
        "    \"сент\",\n",
        "    \"окт\",\n",
        "    \"нояб\",\n",
        "    \"дек\"\n",
        "}"
      ],
      "execution_count": null,
      "outputs": []
    },
    {
      "cell_type": "code",
      "metadata": {
        "id": "Yyi-YyBgHoRl"
      },
      "source": [
        "dict_punctuation = string.punctuation + '—'"
      ],
      "execution_count": null,
      "outputs": []
    },
    {
      "cell_type": "code",
      "metadata": {
        "id": "81KMA8vkHoRl"
      },
      "source": [
        "#Словарь числительных, чтобы потом их конвертировать\n",
        "dict_numbers = {\n",
        "    \"ноль\" : [0,1,0],\n",
        "    \"один\" : [1,1,0],\n",
        "    \"два\" : [2,1,0],\n",
        "    \"три\" : [3,1,0],\n",
        "    \"четыре\" : [4,1,0],\n",
        "    \"пять\" : [5,1,0],\n",
        "    \"шесть\" : [6,1,0],\n",
        "    \"семь\" : [7,1,0],\n",
        "    \"восемь\" : [8,1,0],\n",
        "    \"девять\" : [9,1,0],\n",
        "    \"десять\" : [10,1,0],\n",
        "    \"одиннадцать\" : [11,1,0],\n",
        "    \"двенадцать\" : [12,1,0],\n",
        "    \"тринадцать\" : [13,1,0],\n",
        "    \"четырнадцать\" : [14,1,0],\n",
        "    \"пятнадцать\" : [15,1,0],\n",
        "    \"шестнадцать\" : [16,1,0],\n",
        "    \"семнадцать\" : [17,1,0],\n",
        "    \"восемнадцать\" : [18,1,0],\n",
        "    \"девятнадцать\" : [19,1,0],\n",
        "    \"двадцать\" : [20,2,0],\n",
        "    \"тридцать\" : [30,2,0],\n",
        "    \"сорок\" : [40,2,0],\n",
        "    \"пятьдесят\" : [50,2,0],\n",
        "    \"шестьдесят\" : [60,2,0],\n",
        "    \"семьдесят\" : [70,2,0],\n",
        "    \"восемьдесят\" : [80,2,0],\n",
        "    \"девяносто\" : [90,2,0],\n",
        "    \"сто\" : [100,3,0],\n",
        "    \"двести\" : [200,3,0],\n",
        "    \"триста\" : [300,3,0],\n",
        "    \"четыреста\" : [400,3,0],\n",
        "    \"пятьсот\" : [500,3,0],\n",
        "    \"шестьсот\" : [600,3,0],\n",
        "    \"семьсот\" : [700,3,0],\n",
        "    \"восемьсот\" : [800,3,0],\n",
        "    \"девятьсот\" : [900,3,0],\n",
        "    \"тысяча\" : [1000,4,1],\n",
        "    \"миллион\" : [1000000,5,1],\n",
        "    \"миллиард\" : [1000000000,6,1],\n",
        "    \"триллион\" : [1000000000000,7,1],\n",
        "    \"квадрилион\" : [1000000000000000,8,1],\n",
        "    \"первый\" : [1,1,0],\n",
        "    \"второй\" : [2,1,0],\n",
        "    \"третий\" : [3,1,0],\n",
        "    \"четвертый\" : [4,1,0],\n",
        "    \"пятый\" : [5,1,0],\n",
        "    \"шестой\" : [6,1,0],\n",
        "    \"седьмой\" : [7,1,0],\n",
        "    \"восьмой\" : [8,1,0],\n",
        "    \"девятый\" : [9,1,0],\n",
        "    \"десятый\" : [10,1,0],\n",
        "    \"одиннадцатый\" : [11,1,0],\n",
        "    \"двенадцатый\" : [12,1,0],\n",
        "    \"тринадцатый\" : [13,1,0],\n",
        "    \"четырнадцатый\" : [14,1,0],\n",
        "    \"пятнадцатый\" : [15,1,0],\n",
        "    \"шестнадцатый\" : [16,1,0],\n",
        "    \"семнадцатый\" : [17,1,0],\n",
        "    \"восемнадцатый\" : [18,1,0],\n",
        "    \"девятнадцатый\" : [19,1,0],\n",
        "    \"двадцатый\" : [20,2,0],\n",
        "    \"тридцатый\" : [30,2,0],\n",
        "    \"сороковой\" : [40,2,0],\n",
        "    \"пятидесятый\" : [50,2,0],\n",
        "    \"шестидесятый\" : [60,2,0],\n",
        "    \"семидесятый\" : [70,2,0],\n",
        "    \"восьмидесятый\" : [80,2,0],\n",
        "    \"девяностый\" : [90,2,0],\n",
        "    \"сотый\" : [100,3,0],\n",
        "    \"двухсотый\" : [200,3,0],\n",
        "    \"трехсотый\" : [300,3,0],\n",
        "    \"четырехсотый\" : [400,3,0],\n",
        "    \"пятисотый\" : [500,3,0],\n",
        "    \"шестисотый\" : [600,3,0],\n",
        "    \"семисотый\" : [700,3,0],\n",
        "    \"восьмисотый\" : [800,3,0],\n",
        "    \"девятисотый\" : [900,3,0],\n",
        "    \"тысячный\" : [1000,4,1],\n",
        "    \"милионный\" : [100000,5,1],\n",
        "    \"миллиардный\" : [100000000,6,1],\n",
        "    \"триллионный\" : [100000000000,7,1],\n",
        "    \"квадриллионный\" : [100000000000000,8,1]\n",
        "}"
      ],
      "execution_count": null,
      "outputs": []
    },
    {
      "cell_type": "code",
      "metadata": {
        "id": "0nXIdH91HoRm"
      },
      "source": [
        "#Функция для преобразования числительного в естественной записи в числовую\n",
        "def convert_num_from_str(num_in_str):\n",
        "    global_level = 0 #Уровень множителя\n",
        "    global_value = 0 #Общий сумматор\n",
        "    local_level = 0 #Уровень последнего слова\n",
        "    local_value = 0 #Сумматор немножителей\n",
        "    mass = num_in_str.split()\n",
        "    for word in mass:\n",
        "        if dict_numbers[word][2] == 1:\n",
        "            if global_level != 0 and global_level < dict_numbers[word][1]:\n",
        "                return \"Ошибка. Не число\"\n",
        "            global_level = dict_numbers[word][1]\n",
        "            global_value = global_value + local_value * dict_numbers[word][0]\n",
        "            local_level = 0\n",
        "            local_value = 0\n",
        "        else:\n",
        "            if local_level != 0 and local_level < dict_numbers[word][1]:\n",
        "                return \"Ошибка. Не число\"\n",
        "            local_level = dict_numbers[word][1]\n",
        "            local_value = local_value + dict_numbers[word][0]\n",
        "    return global_value + local_value"
      ],
      "execution_count": null,
      "outputs": []
    },
    {
      "cell_type": "code",
      "metadata": {
        "id": "5rKS_lZAHoRm"
      },
      "source": [
        "#Функция для замены числительных в строке\n",
        "def change_numbers(sent):\n",
        "    doc = Doc(sent)\n",
        "    doc.segment(segmenter)\n",
        "    list_numbers = []\n",
        "    flag_pass = 0\n",
        "    new_number = ''\n",
        "    for token in doc.tokens:\n",
        "        if token.text in dict_numbers:\n",
        "            new_number = new_number + token.text + ' '\n",
        "            flag_pass = 1\n",
        "        if token.text not in dict_numbers and flag_pass == 1:\n",
        "            list_numbers.append(new_number)\n",
        "            new_number = ''\n",
        "            flag_pass = 0\n",
        "        else:\n",
        "            continue\n",
        "    for str_num in list_numbers:\n",
        "        num = convert_num_from_str(str_num)\n",
        "        sent = re.sub(str_num.strip(), str(num), sent, 1)\n",
        "    return sent"
      ],
      "execution_count": null,
      "outputs": []
    },
    {
      "cell_type": "code",
      "metadata": {
        "id": "74QZKNj8HoRn"
      },
      "source": [
        "#Перевод всех числительных, записанных прописью в числа\n",
        "list_norm_sent_with_nums = []\n",
        "for sent in list_norm_sent:\n",
        "    list_norm_sent_with_nums.append(change_numbers(sent))"
      ],
      "execution_count": null,
      "outputs": []
    },
    {
      "cell_type": "markdown",
      "metadata": {
        "id": "9OB-4QbAqxlR"
      },
      "source": [
        "#Удаляю из предложений все, кроме кандидатов на даты\n",
        "listOfDate = []\n",
        "bufDate = ''\n",
        "for sent in list_norm_sent_with_nums:\n",
        "    doc = Doc(sent)\n",
        "    doc.segment(segmenter)\n",
        "    new_sent = ''\n",
        "    i = 0\n",
        "    for token in doc.tokens:\n",
        "        word = token.text\n",
        "        if word in dict_date_words or word in dict_days_of_week or word in dict_months or word.isdigit() or word in dict_punctuation or word in dict_prepositions or word in dict_description_words:\n",
        "          if token != doc.tokens[-1]:\n",
        "            if doc.tokens[i+1].text != '%' and doc.tokens[i].text != '%':\n",
        "              new_sent = new_sent + word\n",
        "        if token != doc.tokens[-1]:\n",
        "          if not (doc.tokens[i].text.isdigit() and doc.tokens[i+1].text.isdigit()):\n",
        "            new_sent = new_sent + ' '\n",
        "        i+=1\n",
        "    print(new_sent)\n",
        "    listOfDate.append(new_sent)"
      ]
    },
    {
      "cell_type": "code",
      "metadata": {
        "colab": {
          "base_uri": "https://localhost:8080/"
        },
        "id": "yKLOmJj5HoRn",
        "outputId": "a4c3f8ed-b03b-43dc-cf3d-1cc6b51f4a6b"
      },
      "source": [
        "#Удаляю из предложений все, кроме кандидатов на даты\n",
        "listOfDate = []\n",
        "bufDate = ''\n",
        "for sent in list_norm_sent_with_nums:\n",
        "    doc = Doc(sent)\n",
        "    doc.segment(segmenter)\n",
        "    new_sent = ''\n",
        "    i = 0\n",
        "    for token in doc.tokens:\n",
        "        word = token.text\n",
        "        if word in dict_date_words or word in dict_days_of_week or word in dict_months or word.isdigit() or word in dict_punctuation or word in dict_prepositions or word in dict_description_words:\n",
        "          if token != doc.tokens[-1]:\n",
        "            if doc.tokens[i+1].text != '%' and doc.tokens[i].text != '%':\n",
        "              new_sent = new_sent + word\n",
        "        if token != doc.tokens[-1]:\n",
        "          new_sent = new_sent + ' '\n",
        "        i+=1\n",
        "    print(new_sent)\n",
        "    listOfDate.append(new_sent)"
      ],
      "execution_count": null,
      "outputs": [
        {
          "output_type": "stream",
          "text": [
            "15 май \n"
          ],
          "name": "stdout"
        }
      ]
    },
    {
      "cell_type": "code",
      "metadata": {
        "colab": {
          "base_uri": "https://localhost:8080/"
        },
        "id": "RQRhnWYiHoRo",
        "outputId": "57ec4b32-7ba7-43ab-e776-2cf7630b3c3b"
      },
      "source": [
        "list_norm_sent_with_nums"
      ],
      "execution_count": null,
      "outputs": [
        {
          "output_type": "execute_result",
          "data": {
            "text/plain": [
              "['15 май 2255']"
            ]
          },
          "metadata": {
            "tags": []
          },
          "execution_count": 21
        }
      ]
    },
    {
      "cell_type": "code",
      "metadata": {
        "id": "ffqm6S61HoRq"
      },
      "source": [
        "#Применяю регулярные выражения для парсинга дат"
      ],
      "execution_count": null,
      "outputs": []
    },
    {
      "cell_type": "code",
      "metadata": {
        "id": "onIXiR3ZsONe"
      },
      "source": [
        "myStr = ''\n",
        "for i in list_norm_sent_with_nums:\n",
        "  if i != '':\n",
        "    myStr +=\" \" + i"
      ],
      "execution_count": null,
      "outputs": []
    },
    {
      "cell_type": "code",
      "metadata": {
        "colab": {
          "base_uri": "https://localhost:8080/",
          "height": 35
        },
        "id": "G4Xuq4hE2GOA",
        "outputId": "df31aa21-2b49-45ed-8c02-e447513f4c15"
      },
      "source": [
        "myStr"
      ],
      "execution_count": null,
      "outputs": [
        {
          "output_type": "execute_result",
          "data": {
            "application/vnd.google.colaboratory.intrinsic+json": {
              "type": "string"
            },
            "text/plain": [
              "' 15 май 2255'"
            ]
          },
          "metadata": {
            "tags": []
          },
          "execution_count": 24
        }
      ]
    },
    {
      "cell_type": "markdown",
      "metadata": {
        "id": "8BHAUbxdoqSi"
      },
      "source": [
        "((?:сдвинуть|перенести)(?:ровно| )+на (?:полгода|полмесяца)+)+|((?:сдвинуть|перенести)(?:ровно| )+на \\d{1,} год)+|((?:через|спустя|после)+ \\d{1,} (?:год|лет|месяц|день)+)+|((?:год|лет|месяц|день)+ назад+)+|(\\d{1,} (?:год|лет|месяц|день)+ назад)+|(\\d{1,} (?:январь|февраль|март|апрель|май|июнь|июль|август|сентябрь|октябрь|ноябрь|декабрь|янв|февр|апр|авг|сент|окт|нояб|дек|год)+ \\d{1,})+|(\\d{1,} (?:январь|февраль|март|апрель|май|июнь|июль|август|сентябрь|октябрь|ноябрь|декабрь|янв|февр|апр|авг|сент|окт|нояб|дек|год)+ \\d{1,})+|((?:январь|февраль|март|апрель|май|июнь|июль|август|сентябрь|октябрь|ноябрь|декабрь|янв|февр|апр|авг|сент|окт|нояб|дек)+.(?:январь|февраль|март|апрель|май|июнь|июль|август|сентябрь|октябрь|ноябрь|декабрь|янв|февр|апр|авг|сент|окт|нояб|дек)+ \\d{1,} год)+|((?:январь|февраль|март|апрель|май|июнь|июль|август|сентябрь|октябрь|ноябрь|декабрь|янв|февр|апр|авг|сент|окт|нояб|дек)+.(?:январь|февраль|март|апрель|май|июнь|июль|август|сентябрь|октябрь|ноябрь|декабрь|янв|февр|апр|авг|сент|окт|нояб|дек)+ \\d{1,})+|(\\d{1,} (?:январь|февраль|март|апрель|май|июнь|июль|август|сентябрь|октябрь|ноябрь|декабрь|янв|февр|апр|авг|сент|окт|нояб|дек|год)+)+|((?:январь|февраль|март|апрель|май|июнь|июль|август|сентябрь|октябрь|ноябрь|декабрь|янв|февр|апр|авг|сент|окт|нояб|дек|год)+ \\d{1,})+|(январь|февраль|март|апрель|май|июнь|июль|август|сентябрь|октябрь|ноябрь|декабрь|янв|февр|апр|авг|сент|окт|нояб|дек)+|(\\d{1,}[.-]\\d{1,}[.-]\\d{1,})+|((?:начало|конец) (?:январь|февраль|март|апрель|май|июнь|июль|август|сентябрь|октябрь|ноябрь|декабрь|янв|февр|апр|авг|сент|окт|нояб|дек|год)+)|((?:\\d{1,}|первый|второй|третий|четвертый)+ (?:половина|квартал|полугодие)+ (?:(?:январь|февраль|март|апрель|май|июнь|июль|август|сентябрь|октябрь|ноябрь|декабрь|янв|февр|апр|авг|сент|окт|нояб|дек|год)+|(?:\\d{1,})+)+)+|((?:лето|осень|зима|весна)+ (?:этот|следующий|текущий)+ (?:год)+)+|(месяц (этот|следующий|текущий)+ год)+|(\\d{1,}[.]\\d{1,})+|((?:\\d{1,}-\\d{1,})+ (?:половина|квартал|полугодие)+ (?:(?:январь|февраль|март|апрель|май|июнь|июль|август|сентябрь|октябрь|ноябрь|декабрь|янв|февр|апр|авг|сент|окт|нояб|дек|год)+|(?:\\d{1,})+)+)+|(\\d{1,}-\\d{1,})+|((?:весна|лето|осень|зима)+ \\d{1,})+|(вчера|сегодня|завтра|послезавтра|позавчера)+|((?:один|два|три|четыре|пять|шесть|семь|восемь|девять|десять)+ (?:год|лет|месяц|день) назад)+|((?:прошлый|текущий|следующий|прошедший|будущий|позапрошлый|той|та)+ (?:год|день|месяц|неделя)+)+"
      ]
    },
    {
      "cell_type": "code",
      "metadata": {
        "id": "rgps4MgzPCXD"
      },
      "source": [
        "buf = []\n",
        "for i in list_norm_sent_with_nums:\n",
        "  buf.append(re.findall(r'((?:сдвинуть|перенести)(?:ровно| )+на (?:полгода|полмесяца)+)+|((?:сдвинуть|перенести)(?:ровно| )+на \\d{1,} (?:год|месяц))+|((?:через|спустя|после)+ \\d{1,} (?:год|лет|месяц|день)+)+|((?:год|лет|месяц|день)+ назад+)+|(\\d{1,} (?:год|лет|месяц|день)+ назад)+|(\\d{1,} (?:январь|февраль|март|апрель|май|июнь|июль|август|сентябрь|октябрь|ноябрь|декабрь|янв|февр|апр|авг|сент|окт|нояб|дек|год)+ \\d{1,})+|(\\d{1,} (?:январь|февраль|март|апрель|май|июнь|июль|август|сентябрь|октябрь|ноябрь|декабрь|янв|февр|апр|авг|сент|окт|нояб|дек|год)+ \\d{1,})+|((?:январь|февраль|март|апрель|май|июнь|июль|август|сентябрь|октябрь|ноябрь|декабрь|янв|февр|апр|авг|сент|окт|нояб|дек)+.(?:январь|февраль|март|апрель|май|июнь|июль|август|сентябрь|октябрь|ноябрь|декабрь|янв|февр|апр|авг|сент|окт|нояб|дек)+ \\d{1,} год)+|((?:январь|февраль|март|апрель|май|июнь|июль|август|сентябрь|октябрь|ноябрь|декабрь|янв|февр|апр|авг|сент|окт|нояб|дек)+.(?:январь|февраль|март|апрель|май|июнь|июль|август|сентябрь|октябрь|ноябрь|декабрь|янв|февр|апр|авг|сент|окт|нояб|дек)+ \\d{1,})+|(\\d{1,} (?:январь|февраль|март|апрель|май|июнь|июль|август|сентябрь|октябрь|ноябрь|декабрь|янв|февр|апр|авг|сент|окт|нояб|дек|год)+)+|((?:январь|февраль|март|апрель|май|июнь|июль|август|сентябрь|октябрь|ноябрь|декабрь|янв|февр|апр|авг|сент|окт|нояб|дек|год)+ \\d{1,})+|(январь|февраль|март|апрель|май|июнь|июль|август|сентябрь|октябрь|ноябрь|декабрь|янв|февр|апр|авг|сент|окт|нояб|дек)+|(\\d{1,}[.-]\\d{1,}[.-]\\d{1,})+|((?:начало|конец) (?:январь|февраль|март|апрель|май|июнь|июль|август|сентябрь|октябрь|ноябрь|декабрь|янв|февр|апр|авг|сент|окт|нояб|дек|год)+)|((?:\\d{1,}|первый|второй|третий|четвертый)+ (?:половина|квартал|полугодие)+ (?:(?:январь|февраль|март|апрель|май|июнь|июль|август|сентябрь|октябрь|ноябрь|декабрь|янв|февр|апр|авг|сент|окт|нояб|дек|год)+|(?:\\d{1,})+)+)+|((?:лето|осень|зима|весна)+ (?:этот|следующий|текущий)+ (?:год)+)+|(месяц (этот|следующий|текущий)+ год)+|(\\d{1,}[.-]\\d{1,})+|((?:\\d{1,}-\\d{1,})+ (?:половина|квартал|полугодие)+ (?:(?:январь|февраль|март|апрель|май|июнь|июль|август|сентябрь|октябрь|ноябрь|декабрь|янв|февр|апр|авг|сент|окт|нояб|дек|год)+|(?:\\d{1,})+)+)+|(\\d{1,}-\\d{1,})+|((?:весна|лето|осень|зима)+ \\d{1,})+|(вчера|сегодня|завтра|послезавтра|позавчера)+|((?:один|два|три|четыре|пять|шесть|семь|восемь|девять|десять)+ (?:год|лет|месяц|день) назад)+|((?:прошлый|текущий|следующий|прошедший|будущий|позапрошлый|вчерашний)+ (?:год|день|месяц|неделя)+)+', i))\n",
        "  "
      ],
      "execution_count": null,
      "outputs": []
    },
    {
      "cell_type": "code",
      "metadata": {
        "id": "zGpIGkLgM2xX"
      },
      "source": [
        "buf = [x for l in buf for x in l]"
      ],
      "execution_count": null,
      "outputs": []
    },
    {
      "cell_type": "code",
      "metadata": {
        "id": "Wpm4_XpiPCTC"
      },
      "source": [
        "buf = [list(ele) for ele in buf]"
      ],
      "execution_count": null,
      "outputs": []
    },
    {
      "cell_type": "code",
      "metadata": {
        "id": "IB8PFCRBPCQP",
        "colab": {
          "base_uri": "https://localhost:8080/"
        },
        "outputId": "f9014dc9-ad56-4641-fb2a-cb4b085664c6"
      },
      "source": [
        "for i in range(len(buf)):\n",
        "  buf[i] = list(filter(lambda x: x !='', buf[i]))\n",
        "buf"
      ],
      "execution_count": null,
      "outputs": [
        {
          "output_type": "execute_result",
          "data": {
            "text/plain": [
              "[['15 май 2255']]"
            ]
          },
          "metadata": {
            "tags": []
          },
          "execution_count": 28
        }
      ]
    },
    {
      "cell_type": "code",
      "metadata": {
        "id": "hVqb_IRQMOXA"
      },
      "source": [
        "highMonth = [1,3,5,7,8,10,12] # месяцы, в которых 31 день\n",
        "lowMonth = [4,6,9,11] # месяцы, в которых 30 дней"
      ],
      "execution_count": null,
      "outputs": []
    },
    {
      "cell_type": "markdown",
      "metadata": {
        "id": "-5hliqsItmHK"
      },
      "source": [
        "если разница дней меньше 1\n",
        "15 - 15 = 0\n",
        "65 // 31 = 2 месяца отнять\n",
        "65 % 31 = 3 дня отнять "
      ]
    },
    {
      "cell_type": "markdown",
      "metadata": {
        "id": "8koA2CkAdagq"
      },
      "source": [
        "a = [1,3,5,7,8,10,12]\n",
        "b = [4,6,9,11]\n",
        "ds = 25 # текущая дата\n",
        "dp = 6666 # сколько дней прибавить\n",
        "m = 2\n",
        "y = 2021\n",
        "while not ((m in a and ds + dp <= 31) or (m in b and ds + dp <= 30) or (m == 2 and ds + dp <= 28 and y % 4 != 0) or (m == 2 and ds + dp <= 28 and y % 4 == 0)): \n",
        "  if m in a:\n",
        "    dp -= (31 - ds)\n",
        "    ds = 0\n",
        "    m +=1\n",
        "  elif m in b:\n",
        "    dp -= (30 - ds)\n",
        "    ds = 0\n",
        "    m += 1\n",
        "  elif m == 2 and y % 4 != 0:\n",
        "    dp -= (28 - ds) \n",
        "    ds = 0\n",
        "    m += 1\n",
        "  elif m == 2 and y % 4 == 0:\n",
        "    dp -= (29 - ds)\n",
        "    ds = 0\n",
        "    m += 1\n",
        "  if m == 13:\n",
        "    m = 1\n",
        "    y += 1\n",
        "print(dp, m , y)"
      ]
    },
    {
      "cell_type": "code",
      "metadata": {
        "colab": {
          "base_uri": "https://localhost:8080/"
        },
        "id": "YoqOBZmJ0JlL",
        "outputId": "6590861c-4233-4a10-a6ee-62d8c90b092c"
      },
      "source": [
        "a = [1,3,5,7,8,10,12]\n",
        "b = [4,6,9,11]\n",
        "ds = 14 # текущая дата\n",
        "dp = 1 # сколько дней прибавить\n",
        "m = 3\n",
        "y = 2021\n",
        "if (dp + ds <= 30 and m in lowMonth) or (dp + ds <= 31 and m in highMonth) or (dp + ds <= 28 and m == 2 and y%4!=0) or (dp + ds <= 29 and m == 2 and y%4==0):\n",
        "  dp += ds\n",
        "else:\n",
        "  while not ((m in a and ds + dp <= 31) or (m in b and ds + dp <= 30) or (m == 2 and ds + dp <= 28 and y % 4 != 0) or (m == 2 and ds + dp <= 28 and y % 4 == 0)): \n",
        "    if m in a:\n",
        "      dp -= (31 - ds)\n",
        "      ds = 0\n",
        "      m +=1\n",
        "    elif m in b:\n",
        "      dp -= (30 - ds)\n",
        "      ds = 0\n",
        "      m += 1\n",
        "    elif m == 2 and y % 4 != 0:\n",
        "      dp -= (28 - ds) \n",
        "      ds = 0\n",
        "      m += 1\n",
        "    elif m == 2 and y % 4 == 0:\n",
        "      dp -= (29 - ds)\n",
        "      ds = 0\n",
        "      m += 1\n",
        "    if m == 13:\n",
        "      m = 1\n",
        "      y += 1\n",
        "print(dp, m , y)"
      ],
      "execution_count": null,
      "outputs": [
        {
          "output_type": "stream",
          "text": [
            "15 3 2021\n"
          ],
          "name": "stdout"
        }
      ]
    },
    {
      "cell_type": "markdown",
      "metadata": {
        "id": "bFfGouXRMasE"
      },
      "source": [
        "a = [1,3,5,7,8,10,12]\n",
        "b = [4,6,9,11]\n",
        "ds = 25 # текущая дата\n",
        "dp = -6666 # сколько дней прибавить\n",
        "m = 2\n",
        "y = 2021\n",
        "while not (((m in a and abs(dp) <= 31) or (m in b and abs(dp) <= 30) or (m == 2 and abs(dp) <= 28 and y % 4 != 0) or (m == 2 and abs(dp) <= 28 and y % 4 == 0))) or (dp < 0): \n",
        "  if m in a:\n",
        "    dp += ds\n",
        "    if m != 3 and m != 1 and m != 7:\n",
        "      ds = 30\n",
        "    elif m == 1 or m == 7:\n",
        "      ds = 31\n",
        "    elif m == 3 and y % 4 != 0:\n",
        "      ds = 28\n",
        "    elif m == 3 and y % 4 == 0:\n",
        "      ds = 29\n",
        "    if dp < 0:\n",
        "      m -=1\n",
        "  elif m in b:\n",
        "    dp += ds\n",
        "    ds = 31\n",
        "    if dp < 0:\n",
        "      m -= 1\n",
        "  elif m == 2:\n",
        "    dp += ds \n",
        "    ds = 31\n",
        "    if dp < 0:\n",
        "     m -= 1\n",
        "  if m == 0:\n",
        "    m = 12\n",
        "    y -= 1\n",
        "print(dp, m , y)"
      ]
    },
    {
      "cell_type": "code",
      "metadata": {
        "id": "izkHqAxmPCN2"
      },
      "source": [
        "class Date:\n",
        "    def __init__(self, day, month, year):         \n",
        "        self.day = day\n",
        "        self.month = month\n",
        "        self.year = year\n",
        "      \n",
        "    def getDay(self):\n",
        "      return self.day\n",
        "    \n",
        "    def getMonth(self):\n",
        "      return self.month\n",
        "      \n",
        "    def getYear(self):\n",
        "      return self.year\n",
        "\n",
        "    def getPlusDateDay(self, newDay):\n",
        "      newMonth = self.month\n",
        "      newYear = self.year\n",
        "      firstDay = self.day\n",
        "      if newDay > 0:\n",
        "        if (newDay + firstDay <= 30 and newMonth in lowMonth) or (newDay + firstDay <= 31 and newMonth in highMonth) or (newDay + firstDay <= 28 and newMonth == 2 and newYear % 4 != 0) or (newDay + firstDay <= 29 and newMonth == 2 and newYear % 4 == 0):\n",
        "          newDay += firstDay\n",
        "        else:\n",
        "          while not ((newMonth in highMonth and firstDay + newDay <= 31) or (newMonth in lowMonth and firstDay + newDay <= 30) or (newMonth == 2 and firstDay + newDay <= 28 and newYear % 4 != 0) or (newMonth == 2 and firstDay + newDay <= 28 and newYear % 4 == 0)): \n",
        "            if newMonth in highMonth:\n",
        "              newDay -= (31 - firstDay)\n",
        "              firstDay = 0\n",
        "              newMonth +=1\n",
        "            elif newMonth in lowMonth:\n",
        "              newDay -= (30 - firstDay)\n",
        "              firstDay = 0\n",
        "              newMonth += 1\n",
        "            elif newMonth == 2 and newYear % 4 != 0:\n",
        "              newDay -= (28 - firstDay) \n",
        "              firstDay = 0\n",
        "              newMonth += 1\n",
        "            elif newMonth == 2 and newYear % 4 == 0:\n",
        "              newDay -= (29 - firstDay)\n",
        "              firstDay = 0\n",
        "              newMonth += 1\n",
        "            if newMonth == 13:\n",
        "              newMonth = 1\n",
        "              newYear += 1\n",
        "        bufStr = str(newDay)+\".\"+str(newMonth)+\".\"+str(newYear)\n",
        "      if newDay < 0:\n",
        "        while not (((newMonth in highMonth and abs(newDay) <= 31) or (newMonth in lowMonth and abs(newDay) <= 30) or (newMonth == 2 and abs(newDay) <= 28 and newYear % 4 != 0) or (newMonth == 2 and abs(newDay) <= 28 and newYear % 4 == 0))) or (newDay < 0): \n",
        "          if newMonth in highMonth:\n",
        "            newDay += firstDay\n",
        "            if newMonth != 3 and newMonth != 1 and newMonth != 7:\n",
        "              firstDay = 30\n",
        "            elif newMonth == 1 or newMonth == 7:\n",
        "              firstDay = 31\n",
        "            elif newMonth == 3 and newYear % 4 != 0:\n",
        "              firstDay = 28\n",
        "            elif newMonth == 3 and newYear % 4 == 0:\n",
        "              firstDay = 29\n",
        "            if newDay < 0:\n",
        "              newMonth -=1\n",
        "          elif newMonth in lowMonth:\n",
        "            newDay += firstDay\n",
        "            firstDay = 31\n",
        "            if newDay < 0:\n",
        "              newMonth -= 1\n",
        "          elif newMonth == 2:\n",
        "            newDay += firstDay \n",
        "            firstDay = 31\n",
        "            if newDay < 0:\n",
        "              newMonth -= 1\n",
        "          if newMonth == 0:\n",
        "            newMonth = 12\n",
        "            newYear -= 1\n",
        "        bufStr = str(newDay)+\".\"+str(newMonth)+\".\"+str(newYear)\n",
        "      return bufStr\n",
        "    \n",
        "    def getPlusDateMonth(self, newMonth):\n",
        "      bufStr = \"\"\n",
        "      newDay = self.day\n",
        "      newYear = self.year # на сколько нужно изменить год\n",
        "      if newMonth > 0:\n",
        "        newMonth+=self.month\n",
        "        if newMonth > 12:\n",
        "          newYear += (newMonth) // 12\n",
        "          newMonth = (newMonth) % 12\n",
        "      elif newMonth < 0:\n",
        "        newYear += (((-1)*newMonth) // 12) * (-1)\n",
        "        if newMonth > 12:\n",
        "          newMonth = newMonth % 12\n",
        "        newMonth += self.month\n",
        "        if newMonth == 0:\n",
        "          newMonth = 12\n",
        "          newYear -= 1\n",
        "        if newMonth < 0:\n",
        "          buffer = 12\n",
        "          newMonth += buffer\n",
        "          newYear -= 1\n",
        "      if newDay == 31 and newMonth in lowMonth:\n",
        "        newDay = 30\n",
        "      elif (newDay == 31 or newDay == 30) and newMonth == 2:\n",
        "        if newYear % 4 == 0:\n",
        "          newDay = 29\n",
        "        elif newYear % 4 != 0:\n",
        "          newDay = 28\n",
        "      bufStr = str(newDay)+\".\"+str(newMonth)+\".\"+str(newYear)\n",
        "      return bufStr\n",
        "\n",
        "    def getPlusDateYear(self, newYear):\n",
        "      bufStr = \"\"\n",
        "      bufStr = str(self.day)+\".\"+str(self.month)+\".\"+str(self.year + newYear)\n",
        "      return bufStr\n",
        "\n",
        "    def getDateYear(self, newYear):\n",
        "      bufStr = \"\"\n",
        "      bufStr = str(self.day)+\".\"+str(self.month)+\".\"+str(newYear)\n",
        "      return bufStr\n",
        "    \n",
        "    def getDateMonth(self, newMonth):\n",
        "      bufStr = \"\"\n",
        "      bufStr = str(self.day)+\".\"+str(newMonth)+\".\"+str(self.year)\n",
        "      return bufStr\n",
        "\n",
        "    def getDateDayAndMonth(self, newDay, newMonth):\n",
        "      bufStr = \"\"\n",
        "      bufStr = str(newDay)+\".\"+str(newMonth)+\".\"+str(self.year)\n",
        "      return bufStr\n",
        "\n",
        "    def getDateDayAndYear(self, newDay, newYear):\n",
        "      bufStr = \"\"\n",
        "      bufStr = str(newDay)+\".\"+str(self.month)+\".\"+str(newYear)\n",
        "      return bufStr\n",
        "\n",
        "    def getDateMonthAndYear(self, newMonth, newYear):\n",
        "      bufStr = \"\"\n",
        "      bufStr = str(self.day)+\".\"+str(newMonth)+\".\"+str(newYear)\n",
        "      return bufStr\n",
        "    \n",
        "    def getDate(self, newDay, newMonth, newYear):\n",
        "      bufStr = \"\"\n",
        "      bufStr = str(newDay)+\".\"+str(newMonth)+\".\"+str(newYear)\n",
        "      return bufStr"
      ],
      "execution_count": null,
      "outputs": []
    },
    {
      "cell_type": "code",
      "metadata": {
        "id": "NKL7aWZnPCLq",
        "colab": {
          "base_uri": "https://localhost:8080/"
        },
        "outputId": "35157423-0455-464d-83b5-4280d0099a5f"
      },
      "source": [
        "print(\"Введите дату, относительно которой хотите увидеть изменения:\")\n",
        "\n",
        "date = Date(int(input(\"Введите день: \")),int(input(\"Введите месяц: \")),int(input(\"Введите год: \")))"
      ],
      "execution_count": null,
      "outputs": [
        {
          "output_type": "stream",
          "text": [
            "Введите дату, относительно которой хотите увидеть изменения:\n",
            "Введите день: 15\n",
            "Введите месяц: 3\n",
            "Введите год: 2021\n"
          ],
          "name": "stdout"
        }
      ]
    },
    {
      "cell_type": "code",
      "metadata": {
        "id": "mdsmZ00Bn8PM"
      },
      "source": [
        "dict_months2 = {\n",
        "    \"январь\" : \"1\",\n",
        "    \"февраль\" : '2',\n",
        "    \"март\" : '3',\n",
        "    \"апрель\" : '4',\n",
        "    \"май\" : '5',\n",
        "    \"июнь\" : '6',\n",
        "    \"июль\" : '7',\n",
        "    \"август\" : '8',\n",
        "    \"сентябрь\" : '9',\n",
        "    \"октябрь\" : '10',\n",
        "    \"ноябрь\" : '11',\n",
        "    \"декабрь\" : '12',\n",
        "    \"янв\" : '1',\n",
        "    \"февр\" : '2',\n",
        "    \"апр\" : '4',\n",
        "    \"авг\" : '8',\n",
        "    \"сент\" : '9',\n",
        "    \"окт\" : '10',\n",
        "    \"нояб\" : '11',\n",
        "    \"дек\" : '12'\n",
        "}"
      ],
      "execution_count": null,
      "outputs": []
    },
    {
      "cell_type": "code",
      "metadata": {
        "id": "hACtNb_nqC7g"
      },
      "source": [
        "import pandas as pd\n",
        "\n",
        "df = pd.DataFrame({\n",
        "    'Найденная(-ое) дата (время)': [],\n",
        "    'Полученная дата': []\n",
        "})"
      ],
      "execution_count": null,
      "outputs": []
    },
    {
      "cell_type": "code",
      "metadata": {
        "colab": {
          "base_uri": "https://localhost:8080/",
          "height": 77
        },
        "id": "EKT2u0nAG-7S",
        "outputId": "824dae61-ad98-437b-9a48-4001e9e1df64"
      },
      "source": [
        "buf = pd.DataFrame(buf)\n",
        "buf"
      ],
      "execution_count": null,
      "outputs": [
        {
          "output_type": "execute_result",
          "data": {
            "text/html": [
              "<div>\n",
              "<style scoped>\n",
              "    .dataframe tbody tr th:only-of-type {\n",
              "        vertical-align: middle;\n",
              "    }\n",
              "\n",
              "    .dataframe tbody tr th {\n",
              "        vertical-align: top;\n",
              "    }\n",
              "\n",
              "    .dataframe thead th {\n",
              "        text-align: right;\n",
              "    }\n",
              "</style>\n",
              "<table border=\"1\" class=\"dataframe\">\n",
              "  <thead>\n",
              "    <tr style=\"text-align: right;\">\n",
              "      <th></th>\n",
              "      <th>0</th>\n",
              "    </tr>\n",
              "  </thead>\n",
              "  <tbody>\n",
              "    <tr>\n",
              "      <th>0</th>\n",
              "      <td>15 май 2255</td>\n",
              "    </tr>\n",
              "  </tbody>\n",
              "</table>\n",
              "</div>"
            ],
            "text/plain": [
              "             0\n",
              "0  15 май 2255"
            ]
          },
          "metadata": {
            "tags": []
          },
          "execution_count": 35
        }
      ]
    },
    {
      "cell_type": "code",
      "metadata": {
        "colab": {
          "base_uri": "https://localhost:8080/",
          "height": 77
        },
        "id": "Z_VZQrr9qo_p",
        "outputId": "2b8ebe48-7270-41f5-e842-4ecb135c0fd3"
      },
      "source": [
        "for i in range(buf.shape[0]):\n",
        "  for j in range(buf.shape[1]):\n",
        "    if buf[j][i] != None:\n",
        "      df.loc[i,'Найденная(-ое) дата (время)'] = buf[j][i]\n",
        "df"
      ],
      "execution_count": null,
      "outputs": [
        {
          "output_type": "execute_result",
          "data": {
            "text/html": [
              "<div>\n",
              "<style scoped>\n",
              "    .dataframe tbody tr th:only-of-type {\n",
              "        vertical-align: middle;\n",
              "    }\n",
              "\n",
              "    .dataframe tbody tr th {\n",
              "        vertical-align: top;\n",
              "    }\n",
              "\n",
              "    .dataframe thead th {\n",
              "        text-align: right;\n",
              "    }\n",
              "</style>\n",
              "<table border=\"1\" class=\"dataframe\">\n",
              "  <thead>\n",
              "    <tr style=\"text-align: right;\">\n",
              "      <th></th>\n",
              "      <th>Найденная(-ое) дата (время)</th>\n",
              "      <th>Полученная дата</th>\n",
              "    </tr>\n",
              "  </thead>\n",
              "  <tbody>\n",
              "    <tr>\n",
              "      <th>0</th>\n",
              "      <td>15 май 2255</td>\n",
              "      <td>NaN</td>\n",
              "    </tr>\n",
              "  </tbody>\n",
              "</table>\n",
              "</div>"
            ],
            "text/plain": [
              "  Найденная(-ое) дата (время)  Полученная дата\n",
              "0                 15 май 2255              NaN"
            ]
          },
          "metadata": {
            "tags": []
          },
          "execution_count": 36
        }
      ]
    },
    {
      "cell_type": "code",
      "metadata": {
        "id": "YsDk0zcvJF-z"
      },
      "source": [
        "def get_key(d, value):\n",
        "    for k, v in d.items():\n",
        "        if k == value:\n",
        "            return v"
      ],
      "execution_count": null,
      "outputs": []
    },
    {
      "cell_type": "code",
      "metadata": {
        "colab": {
          "base_uri": "https://localhost:8080/",
          "height": 77
        },
        "id": "dncHObqlH5Q4",
        "outputId": "c1428574-4cea-4339-843c-b6030676a136"
      },
      "source": [
        "counter = 0\n",
        "counter2 = 0\n",
        "for i in df['Найденная(-ое) дата (время)']:\n",
        "  data = get_key(dict_months2,i)\n",
        "  if data != None:\n",
        "    df.loc[counter2 + counter,'Полученная дата'] = date.getDateMonth(data)\n",
        "    counter+=1\n",
        "  counter2+=1\n",
        "df"
      ],
      "execution_count": null,
      "outputs": [
        {
          "output_type": "execute_result",
          "data": {
            "text/html": [
              "<div>\n",
              "<style scoped>\n",
              "    .dataframe tbody tr th:only-of-type {\n",
              "        vertical-align: middle;\n",
              "    }\n",
              "\n",
              "    .dataframe tbody tr th {\n",
              "        vertical-align: top;\n",
              "    }\n",
              "\n",
              "    .dataframe thead th {\n",
              "        text-align: right;\n",
              "    }\n",
              "</style>\n",
              "<table border=\"1\" class=\"dataframe\">\n",
              "  <thead>\n",
              "    <tr style=\"text-align: right;\">\n",
              "      <th></th>\n",
              "      <th>Найденная(-ое) дата (время)</th>\n",
              "      <th>Полученная дата</th>\n",
              "    </tr>\n",
              "  </thead>\n",
              "  <tbody>\n",
              "    <tr>\n",
              "      <th>0</th>\n",
              "      <td>15 май 2255</td>\n",
              "      <td>NaN</td>\n",
              "    </tr>\n",
              "  </tbody>\n",
              "</table>\n",
              "</div>"
            ],
            "text/plain": [
              "  Найденная(-ое) дата (время)  Полученная дата\n",
              "0                 15 май 2255              NaN"
            ]
          },
          "metadata": {
            "tags": []
          },
          "execution_count": 38
        }
      ]
    },
    {
      "cell_type": "code",
      "metadata": {
        "colab": {
          "base_uri": "https://localhost:8080/",
          "height": 153
        },
        "id": "DoLSNr4Wgv1c",
        "outputId": "1ee4099a-c358-4b84-ca1d-23a6f1cd2872"
      },
      "source": [
        "\"\"\"agg = \"февраль-январь 2001\"\n",
        "gag = re.findall(\"((?:январь|февраль|март|апрель|май|июнь|июль|август|сентябрь|октябрь|ноябрь|декабрь|янв|февр|апр|авг|сент|окт|нояб|дек)+.(?:январь|февраль|март|апрель|май|июнь|июль|август|сентябрь|октябрь|ноябрь|декабрь|янв|февр|апр|авг|сент|окт|нояб|дек)+ \\d{1,})+\",agg)\n",
        "gag2 = gag[0].split(\"-\")\n",
        "gag2[1] = gag2[1].split(\" \")\n",
        "lol1 = []\n",
        "lol1.append(gag2[0])\n",
        "lol1.append(gag2[1][0])\n",
        "lol1.append(gag2[1][1])\n",
        "numMonth1 = get_key(dict_months2,lol1[0])\n",
        "numMonth2 = get_key(dict_months2,lol1[1])\n",
        "day = date.getDay()\n",
        "buf = str(day) + \".\" + numMonth1 + \".\" + lol1[2] + \"-\" + str(day) + \".\" + numMonth2 + \".\" + lol1[2]\n",
        "buf\"\"\""
      ],
      "execution_count": null,
      "outputs": [
        {
          "output_type": "execute_result",
          "data": {
            "application/vnd.google.colaboratory.intrinsic+json": {
              "type": "string"
            },
            "text/plain": [
              "'agg = \"февраль-январь 2001\"\\ngag = re.findall(\"((?:январь|февраль|март|апрель|май|июнь|июль|август|сентябрь|октябрь|ноябрь|декабрь|янв|февр|апр|авг|сент|окт|нояб|дек)+.(?:январь|февраль|март|апрель|май|июнь|июль|август|сентябрь|октябрь|ноябрь|декабрь|янв|февр|апр|авг|сент|окт|нояб|дек)+ \\\\d{1,})+\",agg)\\ngag2 = gag[0].split(\"-\")\\ngag2[1] = gag2[1].split(\" \")\\nlol1 = []\\nlol1.append(gag2[0])\\nlol1.append(gag2[1][0])\\nlol1.append(gag2[1][1])\\nnumMonth1 = get_key(dict_months2,lol1[0])\\nnumMonth2 = get_key(dict_months2,lol1[1])\\nday = date.getDay()\\nbuf = str(day) + \".\" + numMonth1 + \".\" + lol1[2] + \"-\" + str(day) + \".\" + numMonth2 + \".\" + lol1[2]\\nbuf'"
            ]
          },
          "metadata": {
            "tags": []
          },
          "execution_count": 39
        }
      ]
    },
    {
      "cell_type": "code",
      "metadata": {
        "colab": {
          "base_uri": "https://localhost:8080/",
          "height": 86
        },
        "id": "JkOMeIbsDKfE",
        "outputId": "98cfb619-f0dc-4e60-91e7-885c08db4ee7"
      },
      "source": [
        "\"\"\"agg = \"18 февраль 2001\"\n",
        "gag = re.findall(\"(\\d{1,} (?:январь|февраль|март|апрель|май|июнь|июль|август|сентябрь|октябрь|ноябрь|декабрь|янв|февр|апр|авг|сент|окт|нояб|дек)+ \\d{1,})\",agg)\n",
        "gag2 = gag[0].split(\" \")\n",
        "numMonth = get_key(dict_months2,gag2[1])\n",
        "gag3 = gag2[0] + \".\" + numMonth + \".\" + gag2[2]\n",
        "gag3\"\"\""
      ],
      "execution_count": null,
      "outputs": [
        {
          "output_type": "execute_result",
          "data": {
            "application/vnd.google.colaboratory.intrinsic+json": {
              "type": "string"
            },
            "text/plain": [
              "'agg = \"18 февраль 2001\"\\ngag = re.findall(\"(\\\\d{1,} (?:январь|февраль|март|апрель|май|июнь|июль|август|сентябрь|октябрь|ноябрь|декабрь|янв|февр|апр|авг|сент|окт|нояб|дек)+ \\\\d{1,})\",agg)\\ngag2 = gag[0].split(\" \")\\nnumMonth = get_key(dict_months2,gag2[1])\\ngag3 = gag2[0] + \".\" + numMonth + \".\" + gag2[2]\\ngag3'"
            ]
          },
          "metadata": {
            "tags": []
          },
          "execution_count": 40
        }
      ]
    },
    {
      "cell_type": "code",
      "metadata": {
        "colab": {
          "base_uri": "https://localhost:8080/",
          "height": 170
        },
        "id": "GZDvhNShbKdN",
        "outputId": "adfe0614-5e5f-40af-edef-01a5eb8ff6c5"
      },
      "source": [
        "\"\"\"agg = \"4 квартал 2001\"\n",
        "buf = re.findall(\"((?:\\d{1,})+ (?:квартал)+ (?:\\d{1,})+)+\",agg)\n",
        "buf = buf[0].split(\" \")\n",
        "first = buf[0]\n",
        "third = buf[2]\n",
        "if int(first) == 1:\n",
        "  buf = str(date.getDay()) + '.' + \"1\" + \".\" + str(third) + \"-\" + str(date.getDay()) + '.' + \"3\" + \".\" + str(third)\n",
        "if int(first) == 2:\n",
        "  buf = str(date.getDay()) + '.' + \"4\" + \".\" + str(third) + \"-\" + str(date.getDay()) + '.' + \"6\" + \".\" + str(third)\n",
        "if int(first) == 3:\n",
        "  buf = str(date.getDay()) + '.' + \"7\" + \".\" + str(third) + \"-\" + str(date.getDay()) + '.' + \"9\" + \".\" + str(third)\n",
        "if int(first) == 4:\n",
        "  buf = str(date.getDay()) + '.' + \"10\" + \".\" + str(third) + \"-\" + str(date.getDay()) + '.' + \"12\" + \".\" + str(third)\n",
        "print(buf)\"\"\""
      ],
      "execution_count": null,
      "outputs": [
        {
          "output_type": "execute_result",
          "data": {
            "application/vnd.google.colaboratory.intrinsic+json": {
              "type": "string"
            },
            "text/plain": [
              "'agg = \"4 квартал 2001\"\\nbuf = re.findall(\"((?:\\\\d{1,})+ (?:квартал)+ (?:\\\\d{1,})+)+\",agg)\\nbuf = buf[0].split(\" \")\\nfirst = buf[0]\\nthird = buf[2]\\nif int(first) == 1:\\n  buf = str(date.getDay()) + \\'.\\' + \"1\" + \".\" + str(third) + \"-\" + str(date.getDay()) + \\'.\\' + \"3\" + \".\" + str(third)\\nif int(first) == 2:\\n  buf = str(date.getDay()) + \\'.\\' + \"4\" + \".\" + str(third) + \"-\" + str(date.getDay()) + \\'.\\' + \"6\" + \".\" + str(third)\\nif int(first) == 3:\\n  buf = str(date.getDay()) + \\'.\\' + \"7\" + \".\" + str(third) + \"-\" + str(date.getDay()) + \\'.\\' + \"9\" + \".\" + str(third)\\nif int(first) == 4:\\n  buf = str(date.getDay()) + \\'.\\' + \"10\" + \".\" + str(third) + \"-\" + str(date.getDay()) + \\'.\\' + \"12\" + \".\" + str(third)\\nprint(buf)'"
            ]
          },
          "metadata": {
            "tags": []
          },
          "execution_count": 41
        }
      ]
    },
    {
      "cell_type": "code",
      "metadata": {
        "colab": {
          "base_uri": "https://localhost:8080/",
          "height": 238
        },
        "id": "CHvrcjqmj6we",
        "outputId": "b106c1fe-e620-4596-ad04-0ba3361a5264"
      },
      "source": [
        "\"\"\"agg = \"начало апрель 2001\"\n",
        "buf = re.findall(\"((?:начало|конец) (?:январь|февраль|март|апрель|май|июнь|июль|август|сентябрь|октябрь|ноябрь|декабрь|янв|февр|апр|авг|сент|окт|нояб|дек)+ (?:\\d{1,})+)+\",agg)\n",
        "buf = buf[0].split(\" \")\n",
        "if buf[0] == \"начало\":\n",
        "  buf = \"1\" + \".\" + str(get_key(dict_months2,buf[1])) + \".\" + buf[2] + \"-\" + '7' + \".\" + str(get_key(dict_months2,buf[1])) + \".\" + buf[2]\n",
        "if buf[0] == \"конец\" and str(get_key(dict_months2,buf[1]) in highMonth):\n",
        "  buf = \"25\" + \".\" + str(get_key(dict_months2,buf[1])) + \".\" + buf[2] + \"-\" + '31' + \".\" + str(get_key(dict_months2,buf[1])) + \".\" + buf[2]\n",
        "if buf[0] == \"конец\" and str(get_key(dict_months2,buf[1]) in lowMonth):\n",
        "  buf = \"24\" + \".\" + str(get_key(dict_months2,buf[1])) + \".\" + buf[2] + \"-\" + '30' + \".\" + str(get_key(dict_months2,buf[1])) + \".\" + buf[2]\n",
        "if buf[0] == \"конец\" and str(get_key(dict_months2,buf[1]) == \"2\" and int(buf[2])%4 != 0):\n",
        "  buf = \"21\" + \".\" + str(get_key(dict_months2,buf[1])) + \".\" + buf[2] + \"-\" + '28' + \".\" + str(get_key(dict_months2,buf[1])) + \".\" + buf[2]\n",
        "if buf[0] == \"конец\" and str(get_key(dict_months2,buf[1]) == \"2\" and int(buf[2])%4 == 0):\n",
        "  buf = \"22\" + \".\" + str(get_key(dict_months2,buf[1])) + \".\" + buf[2] + \"-\" + '29' + \".\" + str(get_key(dict_months2,buf[1])) + \".\" + buf[2]\n",
        "buf\"\"\""
      ],
      "execution_count": null,
      "outputs": [
        {
          "output_type": "execute_result",
          "data": {
            "application/vnd.google.colaboratory.intrinsic+json": {
              "type": "string"
            },
            "text/plain": [
              "'agg = \"начало апрель 2001\"\\nbuf = re.findall(\"((?:начало|конец) (?:январь|февраль|март|апрель|май|июнь|июль|август|сентябрь|октябрь|ноябрь|декабрь|янв|февр|апр|авг|сент|окт|нояб|дек)+ (?:\\\\d{1,})+)+\",agg)\\nbuf = buf[0].split(\" \")\\nif buf[0] == \"начало\":\\n  buf = \"1\" + \".\" + str(get_key(dict_months2,buf[1])) + \".\" + buf[2] + \"-\" + \\'7\\' + \".\" + str(get_key(dict_months2,buf[1])) + \".\" + buf[2]\\nif buf[0] == \"конец\" and str(get_key(dict_months2,buf[1]) in highMonth):\\n  buf = \"25\" + \".\" + str(get_key(dict_months2,buf[1])) + \".\" + buf[2] + \"-\" + \\'31\\' + \".\" + str(get_key(dict_months2,buf[1])) + \".\" + buf[2]\\nif buf[0] == \"конец\" and str(get_key(dict_months2,buf[1]) in lowMonth):\\n  buf = \"24\" + \".\" + str(get_key(dict_months2,buf[1])) + \".\" + buf[2] + \"-\" + \\'30\\' + \".\" + str(get_key(dict_months2,buf[1])) + \".\" + buf[2]\\nif buf[0] == \"конец\" and str(get_key(dict_months2,buf[1]) == \"2\" and int(buf[2])%4 != 0):\\n  buf = \"21\" + \".\" + str(get_key(dict_months2,buf[1])) + \".\" + buf[2] + \"-\" + \\'28\\' + \".\" + str(get_key(dict_months2,buf[1])) + \".\" + buf[2]\\nif buf[0] == \"конец\" and str(get_key(dict_months2,buf[1]) == \"2\" and int(buf[2])%4 == 0):\\n  buf = \"22\" + \".\" + str(get_key(dict_months2,buf[1])) + \".\" + buf[2] + \"-\" + \\'29\\' + \".\" + str(get_key(dict_months2,buf[1])) + \".\" + buf[2]\\nbuf'"
            ]
          },
          "metadata": {
            "tags": []
          },
          "execution_count": 42
        }
      ]
    },
    {
      "cell_type": "code",
      "metadata": {
        "colab": {
          "base_uri": "https://localhost:8080/",
          "height": 153
        },
        "id": "b3NVokbz4Q6i",
        "outputId": "bdf4093f-abc4-4bc3-df4f-24712ae1eb26"
      },
      "source": [
        "\"\"\"agg = '14-3-2001'\n",
        "if \".\" in (re.findall(\"(\\d{1,}[.-]\\d{1,}[.-]\\d{1,})+\",agg))[0]:\n",
        "  buf = (re.findall(\"(\\d{1,}[.-]\\d{1,}[.-]\\d{1,})+\",agg))\n",
        "  buf = buf[0].split(\".\")\n",
        "  buf = str(buf[0]) + \".\" + str(buf[1]) + \".\" + str(buf[2])\n",
        "  #df.loc[counter2,'Полученная дата'] = buf\n",
        "  print(\"AAA\")\n",
        "if \"-\" in (re.findall(\"(\\d{1,}[.-]\\d{1,}[.-]\\d{1,})+\",agg))[0]:\n",
        "  buf = (re.findall(\"(\\d{1,}[.-]\\d{1,}[.-]\\d{1,})+\",agg))\n",
        "  buf = buf[0].split(\"-\")\n",
        "  buf = str(buf[0]) + \".\" + str(buf[1]) + \".\" + str(buf[2])\n",
        "  #df.loc[counter2,'Полученная дата'] = buf\n",
        "  print(\"BBB\")\n",
        "buf\"\"\""
      ],
      "execution_count": null,
      "outputs": [
        {
          "output_type": "execute_result",
          "data": {
            "application/vnd.google.colaboratory.intrinsic+json": {
              "type": "string"
            },
            "text/plain": [
              "'agg = \\'14-3-2001\\'\\nif \".\" in (re.findall(\"(\\\\d{1,}[.-]\\\\d{1,}[.-]\\\\d{1,})+\",agg))[0]:\\n  buf = (re.findall(\"(\\\\d{1,}[.-]\\\\d{1,}[.-]\\\\d{1,})+\",agg))\\n  buf = buf[0].split(\".\")\\n  buf = str(buf[0]) + \".\" + str(buf[1]) + \".\" + str(buf[2])\\n  #df.loc[counter2,\\'Полученная дата\\'] = buf\\n  print(\"AAA\")\\nif \"-\" in (re.findall(\"(\\\\d{1,}[.-]\\\\d{1,}[.-]\\\\d{1,})+\",agg))[0]:\\n  buf = (re.findall(\"(\\\\d{1,}[.-]\\\\d{1,}[.-]\\\\d{1,})+\",agg))\\n  buf = buf[0].split(\"-\")\\n  buf = str(buf[0]) + \".\" + str(buf[1]) + \".\" + str(buf[2])\\n  #df.loc[counter2,\\'Полученная дата\\'] = buf\\n  print(\"BBB\")\\nbuf'"
            ]
          },
          "metadata": {
            "tags": []
          },
          "execution_count": 43
        }
      ]
    },
    {
      "cell_type": "code",
      "metadata": {
        "colab": {
          "base_uri": "https://localhost:8080/",
          "height": 136
        },
        "id": "YCwpHuqMCJcV",
        "outputId": "578f149c-fedb-40a1-87e6-6349ef78cedc"
      },
      "source": [
        "\"\"\"buf = (re.findall(\"(\\d{1,} (?:январь|февраль|март|апрель|май|июнь|июль|август|сентябрь|октябрь|ноябрь|декабрь|янв|февр|апр|авг|сент|окт|нояб|дек|год)+)+\",\"10 янв\"))\n",
        "buf = buf[0].split(\" \")\n",
        "if buf[1] in dict_months2:\n",
        "  buf = str(buf[0]) + \".\" + str(get_key(dict_months2,buf[1])) + \".\" + str(date.getYear())\n",
        "  #df.loc[counter2,'Полученная дата'] = buf\n",
        "if buf[1] == \"год\":\n",
        "  buf = str(date.getDay()) + \".\" + str(date.getMonth()) + \".\" + str(buf[0])\n",
        "  #df.loc[counter2,'Полученная дата'] = buf\n",
        "buf\"\"\""
      ],
      "execution_count": null,
      "outputs": [
        {
          "output_type": "execute_result",
          "data": {
            "application/vnd.google.colaboratory.intrinsic+json": {
              "type": "string"
            },
            "text/plain": [
              "'buf = (re.findall(\"(\\\\d{1,} (?:январь|февраль|март|апрель|май|июнь|июль|август|сентябрь|октябрь|ноябрь|декабрь|янв|февр|апр|авг|сент|окт|нояб|дек|год)+)+\",\"10 янв\"))\\nbuf = buf[0].split(\" \")\\nif buf[1] in dict_months2:\\n  buf = str(buf[0]) + \".\" + str(get_key(dict_months2,buf[1])) + \".\" + str(date.getYear())\\n  #df.loc[counter2,\\'Полученная дата\\'] = buf\\nif buf[1] == \"год\":\\n  buf = str(date.getDay()) + \".\" + str(date.getMonth()) + \".\" + str(buf[0])\\n  #df.loc[counter2,\\'Полученная дата\\'] = buf\\nbuf'"
            ]
          },
          "metadata": {
            "tags": []
          },
          "execution_count": 44
        }
      ]
    },
    {
      "cell_type": "code",
      "metadata": {
        "id": "454yg54Xr3Lj",
        "colab": {
          "base_uri": "https://localhost:8080/",
          "height": 110
        },
        "outputId": "141a00cc-d2da-47c7-8172-42864ee3d29f"
      },
      "source": [
        "counter = 0\n",
        "counter2 = 0\n",
        "buf = 0\n",
        "for i in df['Найденная(-ое) дата (время)']:\n",
        "  print(i)\n",
        "  if (re.findall(r'((?:сдвинуть|перенести)(?:ровно| )+на \\d{1,} (?:год|месяц))', i)):\n",
        "    if (re.findall(r'\\d{1,} год',i)):\n",
        "      buf = re.findall(r'\\d{1,}',i)\n",
        "      df.loc[counter2,'Полученная дата'] = date.getPlusDateYear(int(buf[0]))\n",
        "      print(1)\n",
        "    if (re.findall(r'\\d{1,} месяц',i)):\n",
        "      buf = re.findall(r'\\d{1,}',i)\n",
        "      df.loc[counter2,'Полученная дата'] = date.getPlusDateMonth(int(buf[0]))\n",
        "      print(2)\n",
        "  elif (re.findall('((?:через|спустя|после)+ \\d{1,} (?:год|лет|месяц|день))',i)):\n",
        "    if (re.findall('\\d{1,} (?:год|лет)',i)):\n",
        "      buf = re.findall(r'\\d{1,}',i)\n",
        "      df.loc[counter2,'Полученная дата'] = date.getPlusDateYear(int(buf[0]))\n",
        "      print(3)\n",
        "    if (re.findall('\\d{1,} месяц',i)):\n",
        "      buf = re.findall(r'\\d{1,}',i)\n",
        "      df.loc[counter2,'Полученная дата'] = date.getPlusDateMonth(int(buf[0]))\n",
        "      print(4)\n",
        "    if (re.findall('\\d{1,} день',i)):\n",
        "      buf = re.findall(r'\\d{1,}',i)\n",
        "      df.loc[counter2,'Полученная дата'] = date.getPlusDateDay(int(buf[0]))\n",
        "      print(5)\n",
        "  elif (re.findall('((?:через|спустя|после)+ (?:год|месяц|день))',i)):\n",
        "    if (re.findall('год',i)):\n",
        "      buf = 1\n",
        "      df.loc[counter2,'Полученная дата'] = date.getPlusDateYear(int(buf))\n",
        "      print(6)\n",
        "    if (re.findall('месяц',i)):\n",
        "      buf = 1\n",
        "      df.loc[counter2,'Полученная дата'] = date.getPlusDateMonth(int(buf))\n",
        "      print(7)\n",
        "    if (re.findall('день',i)):\n",
        "      buf = 1\n",
        "      df.loc[counter2,'Полученная дата'] = date.getPlusDateDay(int(buf))\n",
        "      print(8)\n",
        "  elif (re.findall('(\\d{1,} (?:год|лет|месяц|день)+ назад)+',i)):\n",
        "    if (re.findall('(\\d{1,} год)',i)):\n",
        "      buf = re.findall(r'\\d{1,}',i)\n",
        "      df.loc[counter2,'Полученная дата'] = date.getPlusDateYear(-int(buf[0]))\n",
        "      print(12)\n",
        "    if (re.findall('месяц',i)):\n",
        "      buf = re.findall(r'\\d{1,}',i)\n",
        "      df.loc[counter2,'Полученная дата'] = date.getPlusDateMonth(-int(buf[0]))\n",
        "      print(13)\n",
        "    if (re.findall('день',i)):\n",
        "      buf = re.findall(r'\\d{1,}',i)\n",
        "      df.loc[counter2,'Полученная дата'] = date.getPlusDateDay(-int(buf[0]))\n",
        "      print(14)\n",
        "  elif (re.findall('((?:год|месяц|день)+ назад+)+',i)):\n",
        "    if (re.findall('год',i)):\n",
        "      buf = -1\n",
        "      df.loc[counter2,'Полученная дата'] = date.getPlusDateYear(int(buf))\n",
        "      print(9)\n",
        "    if (re.findall('месяц',i)):\n",
        "      buf = -1\n",
        "      df.loc[counter2,'Полученная дата'] = date.getPlusDateMonth(int(buf))\n",
        "      print(10)\n",
        "    if (re.findall('день',i)):\n",
        "      buf = -1\n",
        "      df.loc[counter2,'Полученная дата'] = date.getPlusDateDay(int(buf))\n",
        "      print(11)\n",
        "  elif (re.findall('(\\d{1,} (?:январь|февраль|март|апрель|май|июнь|июль|август|сентябрь|октябрь|ноябрь|декабрь|янв|февр|апр|авг|сент|окт|нояб|дек)+ \\d{1,})+',i)):\n",
        "    buf = re.findall('(\\d{1,} (?:январь|февраль|март|апрель|май|июнь|июль|август|сентябрь|октябрь|ноябрь|декабрь|янв|февр|апр|авг|сент|окт|нояб|дек)+ \\d{1,})+',i)\n",
        "    buf = buf[0].split(\" \")\n",
        "    buf = str(buf[0]) + \".\" + str(get_key(dict_months2,buf[1])) + \".\" + str(buf[2])\n",
        "    df.loc[counter2,'Полученная дата'] = buf\n",
        "    print(17)\n",
        "  elif (re.findall(\"(\\d{1,} (?:январь|февраль|март|апрель|май|июнь|июль|август|сентябрь|октябрь|ноябрь|декабрь|янв|февр|апр|авг|сент|окт|нояб|дек)+ \\d{1,})\",i)):\n",
        "    gag = re.findall(\"(\\d{1,} (?:январь|февраль|март|апрель|май|июнь|июль|август|сентябрь|октябрь|ноябрь|декабрь|янв|февр|апр|авг|сент|окт|нояб|дек)+ \\d{1,})\",i)\n",
        "    gag2 = gag[0].split(\" \")\n",
        "    numMonth = get_key(dict_months2,gag2[1])\n",
        "    buf = gag2[0] + \".\" + numMonth + \".\" + gag2[2]\n",
        "    df.loc[counter2,'Полученная дата'] = buf\n",
        "    print(18)\n",
        "  elif (re.findall(\"(\\d{1,} (?:январь|февраль|март|апрель|май|июнь|июль|август|сентябрь|октябрь|ноябрь|декабрь|янв|февр|апр|авг|сент|окт|нояб|дек)+ \\d{1,} год)\",i)):\n",
        "    gag = re.findall(\"(\\d{1,} (?:январь|февраль|март|апрель|май|июнь|июль|август|сентябрь|октябрь|ноябрь|декабрь|янв|февр|апр|авг|сент|окт|нояб|дек)+ \\d{1,})\",i)\n",
        "    gag2 = gag[0].split(\" \")\n",
        "    numMonth = get_key(dict_months2,gag2[1])\n",
        "    buf = gag2[0] + \".\" + numMonth + \".\" + gag2[2]\n",
        "    df.loc[counter2,'Полученная дата'] = buf\n",
        "    print(19)\n",
        "  elif (re.findall(\"((?:январь|февраль|март|апрель|май|июнь|июль|август|сентябрь|октябрь|ноябрь|декабрь|янв|февр|апр|авг|сент|окт|нояб|дек)+.(?:январь|февраль|март|апрель|май|июнь|июль|август|сентябрь|октябрь|ноябрь|декабрь|янв|февр|апр|авг|сент|окт|нояб|дек)+ \\d{1,} год)+\",i)):\n",
        "    gag = re.findall(\"((?:январь|февраль|март|апрель|май|июнь|июль|август|сентябрь|октябрь|ноябрь|декабрь|янв|февр|апр|авг|сент|окт|нояб|дек)+.(?:январь|февраль|март|апрель|май|июнь|июль|август|сентябрь|октябрь|ноябрь|декабрь|янв|февр|апр|авг|сент|окт|нояб|дек)+ \\d{1,})+\",i)\n",
        "    gag2 = gag[0].split(\"-\")\n",
        "    gag2[1] = gag2[1].split(\" \")\n",
        "    lol = []\n",
        "    lol.append(gag2[0])\n",
        "    lol.append(gag2[1][0])\n",
        "    lol.append(gag2[1][1])\n",
        "    numMonth1 = get_key(dict_months2,lol[0])\n",
        "    numMonth2 = get_key(dict_months2,lol[1])\n",
        "    day = date.getDay()\n",
        "    buf = str(day) + \".\" + numMonth1 + \".\" + lol[2] + \"-\" + str(day) + \".\" + numMonth2 + \".\" + lol[2]\n",
        "    df.loc[counter2,'Полученная дата'] = buf\n",
        "    print(20)\n",
        "  elif (re.findall(\"((?:январь|февраль|март|апрель|май|июнь|июль|август|сентябрь|октябрь|ноябрь|декабрь|янв|февр|апр|авг|сент|окт|нояб|дек)+.(?:январь|февраль|март|апрель|май|июнь|июль|август|сентябрь|октябрь|ноябрь|декабрь|янв|февр|апр|авг|сент|окт|нояб|дек)+ \\d{1,})+\",i)):\n",
        "    gag = re.findall(\"((?:январь|февраль|март|апрель|май|июнь|июль|август|сентябрь|октябрь|ноябрь|декабрь|янв|февр|апр|авг|сент|окт|нояб|дек)+.(?:январь|февраль|март|апрель|май|июнь|июль|август|сентябрь|октябрь|ноябрь|декабрь|янв|февр|апр|авг|сент|окт|нояб|дек)+ \\d{1,})+\",i)\n",
        "    gag2 = gag[0].split(\"-\")\n",
        "    gag2[1] = gag2[1].split(\" \")\n",
        "    lol = []\n",
        "    lol.append(gag2[0])\n",
        "    lol.append(gag2[1][0])\n",
        "    lol.append(gag2[1][1])\n",
        "    numMonth1 = get_key(dict_months2,lol[0])\n",
        "    numMonth2 = get_key(dict_months2,lol[1])\n",
        "    day = date.getDay()\n",
        "    buf = str(day) + \".\" + numMonth1 + \".\" + lol[2] + \"-\" + str(day) + \".\" + numMonth2 + \".\" + lol[2]\n",
        "    df.loc[counter2,'Полученная дата'] = buf\n",
        "    print(21)\n",
        "  elif (re.findall(\"(\\d{1,} (?:январь|февраль|март|апрель|май|июнь|июль|август|сентябрь|октябрь|ноябрь|декабрь|янв|февр|апр|авг|сент|окт|нояб|дек|год)+)+\",i)):\n",
        "    buf = (re.findall(\"(\\d{1,} (?:январь|февраль|март|апрель|май|июнь|июль|август|сентябрь|октябрь|ноябрь|декабрь|янв|февр|апр|авг|сент|окт|нояб|дек|год)+)+\",i))\n",
        "    buf = buf[0].split(\" \")\n",
        "    if buf[1] in dict_months2:\n",
        "      buf = str(buf[0]) + \".\" + str(get_key(dict_months2,buf[1])) + \".\" + str(date.getYear())\n",
        "      df.loc[counter2,'Полученная дата'] = buf\n",
        "    if buf[1] == \"год\":\n",
        "      buf = str(date.getDay()) + \".\" + str(date.getMonth()) + \".\" + str(buf[0])\n",
        "      df.loc[counter2,'Полученная дата'] = buf\n",
        "    print(22)\n",
        "  elif (re.findall(\"((?:январь|февраль|март|апрель|май|июнь|июль|август|сентябрь|октябрь|ноябрь|декабрь|янв|февр|апр|авг|сент|окт|нояб|дек|год)+ \\d{1,})+\",i)):\n",
        "    buf = (re.findall(\"((?:январь|февраль|март|апрель|май|июнь|июль|август|сентябрь|октябрь|ноябрь|декабрь|янв|февр|апр|авг|сент|окт|нояб|дек|год)+ \\d{1,})+\",i))\n",
        "    buf = buf[0].split(\" \")\n",
        "    if buf[0] in dict_months2:\n",
        "      buf = str(date.getDay()) + \".\" + str(get_key(dict_months2,buf[0])) + \".\" + str(buf[1])\n",
        "      df.loc[counter2,'Полученная дата'] = buf\n",
        "    if buf[0] == \"год\":\n",
        "      if int(buf[1]) < 100:\n",
        "        buf = str(date.getDay()) + \".\" + str(date.getMonth()) + \".20\" + str(buf[1])\n",
        "      else:\n",
        "        buf = str(date.getDay()) + \".\" + str(date.getMonth()) + \".\" + str(buf[1])\n",
        "      df.loc[counter2,'Полученная дата'] = buf\n",
        "    print(23)\n",
        "  elif (re.findall(\"((?:начало|конец) (?:январь|февраль|март|апрель|май|июнь|июль|август|сентябрь|октябрь|ноябрь|декабрь|янв|февр|апр|авг|сент|окт|нояб|дек)+ (?:\\d{1,})+)+\",i)):\n",
        "    buf = re.findall(\"((?:начало|конец) (?:январь|февраль|март|апрель|май|июнь|июль|август|сентябрь|октябрь|ноябрь|декабрь|янв|февр|апр|авг|сент|окт|нояб|дек)+ (?:\\d{1,})+)+\",i)\n",
        "    buf = buf[0].split(\" \")\n",
        "    if buf[0] == \"начало\":\n",
        "      buf = \"1\" + \".\" + str(get_key(dict_months2,buf[1])) + \".\" + buf[2] + \"-\" + '7' + \".\" + str(get_key(dict_months2,buf[1])) + \".\" + buf[2]\n",
        "    if buf[0] == \"конец\" and str(get_key(dict_months2,buf[1]) in highMonth):\n",
        "      buf = \"25\" + \".\" + str(get_key(dict_months2,buf[1])) + \".\" + buf[2] + \"-\" + '31' + \".\" + str(get_key(dict_months2,buf[1])) + \".\" + buf[2]\n",
        "    if buf[0] == \"конец\" and str(get_key(dict_months2,buf[1]) in lowMonth):\n",
        "      buf = \"24\" + \".\" + str(get_key(dict_months2,buf[1])) + \".\" + buf[2] + \"-\" + '30' + \".\" + str(get_key(dict_months2,buf[1])) + \".\" + buf[2]\n",
        "    if buf[0] == \"конец\" and str(get_key(dict_months2,buf[1]) == \"2\" and int(buf[2])%4 != 0):\n",
        "      buf = \"21\" + \".\" + str(get_key(dict_months2,buf[1])) + \".\" + buf[2] + \"-\" + '28' + \".\" + str(get_key(dict_months2,buf[1])) + \".\" + buf[2]\n",
        "    if buf[0] == \"конец\" and str(get_key(dict_months2,buf[1]) == \"2\" and int(buf[2])%4 == 0):\n",
        "      buf = \"22\" + \".\" + str(get_key(dict_months2,buf[1])) + \".\" + buf[2] + \"-\" + '29' + \".\" + str(get_key(dict_months2,buf[1])) + \".\" + buf[2]\n",
        "    df.loc[counter2,'Полученная дата'] = buf\n",
        "    print(33)\n",
        "  elif (re.findall(\"((?:начало|конец) (?:январь|февраль|март|апрель|май|июнь|июль|август|сентябрь|октябрь|ноябрь|декабрь|янв|февр|апр|авг|сент|окт|нояб|дек)+)\",i)):\n",
        "    buf = re.findall(\"((?:начало|конец) (?:январь|февраль|март|апрель|май|июнь|июль|август|сентябрь|октябрь|ноябрь|декабрь|янв|февр|апр|авг|сент|окт|нояб|дек)+)\",i)\n",
        "    buf = buf[0].split(\" \")\n",
        "    if buf[0] == \"начало\":\n",
        "      buf = \"1\" + \".\" + str(get_key(dict_months2,buf[1])) + \".\" + str(date.getYear()) + \"-\" + '7' + \".\" + str(get_key(dict_months2,buf[1])) + \".\" + str(date.getYear())\n",
        "    if buf[0] == \"конец\" and str(get_key(dict_months2,buf[1]) in highMonth):\n",
        "      buf = \"25\" + \".\" + str(get_key(dict_months2,buf[1])) + \".\" + str(date.getYear()) + \"-\" + '31' + \".\" + str(get_key(dict_months2,buf[1])) + \".\" + str(date.getYear())\n",
        "    if buf[0] == \"конец\" and str(get_key(dict_months2,buf[1]) in lowMonth):\n",
        "      buf = \"24\" + \".\" + str(get_key(dict_months2,buf[1])) + \".\" + str(date.getYear()) + \"-\" + '30' + \".\" + str(get_key(dict_months2,buf[1])) + \".\" + str(date.getYear())\n",
        "    if buf[0] == \"конец\" and str(get_key(dict_months2,buf[1]) == \"2\" and date.getYear()%4 != 0):\n",
        "      buf = \"21\" + \".\" + str(get_key(dict_months2,buf[1])) + \".\" + str(date.getYear()) + \"-\" + '28' + \".\" + str(get_key(dict_months2,buf[1])) + \".\" + str(date.getYear())\n",
        "    if buf[0] == \"конец\" and str(get_key(dict_months2,buf[1]) == \"2\" and date.getYear()%4 == 0):\n",
        "      buf = \"22\" + \".\" + str(get_key(dict_months2,buf[1])) + \".\" + str(date.getYear()) + \"-\" + '29' + \".\" + str(get_key(dict_months2,buf[1])) + \".\" + str(date.getYear())\n",
        "    df.loc[counter2,'Полученная дата'] = buf\n",
        "    print(24)\n",
        "  elif (re.findall(\"(?:\\d{1,}[.-]\\d{1,}[.-]\\d{1,})+\",i)):\n",
        "    if \".\" in (re.findall(\"(\\d{1,}[.-]\\d{1,}[.-]\\d{1,})+\",i))[0]:\n",
        "      buf = (re.findall(\"(\\d{1,}[.-]\\d{1,}[.-]\\d{1,})+\",i))\n",
        "      buf = buf[0].split(\".\")\n",
        "      buf = str(buf[0]) + \".\" + str(buf[1]) + \".\" + str(buf[2])\n",
        "      df.loc[counter2,'Полученная дата'] = buf\n",
        "    if \"-\" in (re.findall(\"(\\d{1,}[.-]\\d{1,}[.-]\\d{1,})+\",i))[0]:\n",
        "      buf = (re.findall(\"(\\d{1,}[.-]\\d{1,}[.-]\\d{1,})+\",i))\n",
        "      buf = buf[0].split(\"-\")\n",
        "      buf = str(buf[0]) + \".\" + str(buf[1]) + \".\" + str(buf[2])\n",
        "      df.loc[counter2,'Полученная дата'] = buf\n",
        "    print(25)\n",
        "  elif (re.findall(\"(?:вчера|сегодня|завтра|послезавтра|позавчера)+\",i)):\n",
        "    if (re.findall(\"(вчера)\",i)):\n",
        "      buf = -1\n",
        "      df.loc[counter2,'Полученная дата'] = date.getPlusDateDay(int(buf))\n",
        "    if (re.findall(\"(сегодня)\",i)):\n",
        "      buf = str(date.getDay()) + \".\" + str(date.getMonth()) + \".\" + str(date.getYear())\n",
        "      df.loc[counter2,'Полученная дата'] = buf\n",
        "    if (re.findall(\"(завтра)\",i)):\n",
        "      buf = 1############################################################################################################\n",
        "      df.loc[counter2,'Полученная дата'] = date.getPlusDateDay(int(buf))\n",
        "      print(date.getPlusDateDay(int(buf)))\n",
        "    if (re.findall(\"(послезавтра)\",i)):\n",
        "      buf = 2\n",
        "      df.loc[counter2,'Полученная дата'] = date.getPlusDateDay(int(buf))\n",
        "    if (re.findall(\"(позавчера)\",i)):\n",
        "      buf = -2\n",
        "      df.loc[counter2,'Полученная дата'] = date.getPlusDateDay(int(buf))\n",
        "    print(26)\n",
        "  elif (re.findall(\"((?:лето|осень|зима|весна)+ (?:этот|следующий|текущий|прошлый|позапрошлый)+ (?:год)+)+\",i)):\n",
        "    if (re.findall(\"лето этот год\",i)):\n",
        "      buf = str(date.getDay()) + \".\" + \"6\" + \".\" + str(date.getYear()) + \"-\" + str(date.getDay()) + \".\" + \"8\" + \".\" + str(date.getYear())\n",
        "      df.loc[counter2,'Полученная дата'] = buf\n",
        "    if (re.findall(\"осень этот год\",i)):\n",
        "      buf = str(date.getDay()) + \".\" + \"9\" + \".\" + str(date.getYear()) + \"-\" + str(date.getDay()) + \".\" + \"11\" + \".\" + str(date.getYear())\n",
        "      df.loc[counter2,'Полученная дата'] = buf\n",
        "    if (re.findall(\"зима этот год\",i)):\n",
        "      buf = str(date.getDay()) + \".\" + \"1\" + \".\" + str(date.getYear()) + \"-\" + str(date.getDay()) + \".\" + \"2\" + \".\" + str(date.getYear()) + \";\" + str(date.getDay()) + \".\" + \"12\" + \".\" + str(date.getYear())\n",
        "      df.loc[counter2,'Полученная дата'] = buf\n",
        "    if (re.findall(\"весна этот год\",i)):\n",
        "      buf = str(date.getDay()) + \".\" + \"3\" + \".\" + str(date.getYear()) + \"-\" + str(date.getDay()) + \".\" + \"5\" + \".\" + str(date.getYear())\n",
        "      df.loc[counter2,'Полученная дата'] = buf\n",
        "    #33333333333333333333333333333333333\n",
        "    if (re.findall(\"лето текущий год\",i)):\n",
        "      buf = str(date.getDay()) + \".\" + \"6\" + \".\" + str(date.getYear()) + \"-\" + str(date.getDay()) + \".\" + \"8\" + \".\" + str(date.getYear())\n",
        "      df.loc[counter2,'Полученная дата'] = buf\n",
        "    if (re.findall(\"осень текущий год\",i)):\n",
        "      buf = str(date.getDay()) + \".\" + \"9\" + \".\" + str(date.getYear()) + \"-\" + str(date.getDay()) + \".\" + \"11\" + \".\" + str(date.getYear())\n",
        "      df.loc[counter2,'Полученная дата'] = buf\n",
        "    if (re.findall(\"зима текущий год\",i)):\n",
        "      buf = str(date.getDay()) + \".\" + \"1\" + \".\" + str(date.getYear()) + \"-\" + str(date.getDay()) + \".\" + \"2\" + \".\" + str(date.getYear()) + \";\" + str(date.getDay()) + \".\" + \"12\" + \".\" + str(date.getYear())\n",
        "      df.loc[counter2,'Полученная дата'] = buf\n",
        "    if (re.findall(\"весна текущий год\",i)):\n",
        "      buf = str(date.getDay()) + \".\" + \"3\" + \".\" + str(date.getYear()) + \"-\" + str(date.getDay()) + \".\" + \"5\" + \".\" + str(date.getYear())\n",
        "      df.loc[counter2,'Полученная дата'] = buf\n",
        "      #333333333333333333333333333333333\n",
        "    if (re.findall(\"лето следующий год\",i)):\n",
        "      buf = str(date.getDay()) + \".\" + \"6\" + \".\" + str(date.getYear()+1) + \"-\" + str(date.getDay()) + \".\" + \"8\" + \".\" + str(date.getYear()+1)\n",
        "      df.loc[counter2,'Полученная дата'] = buf\n",
        "    if (re.findall(\"осень следующий год\",i)):\n",
        "      buf = str(date.getDay()) + \".\" + \"9\" + \".\" + str(date.getYear()+1) + \"-\" + str(date.getDay()) + \".\" + \"11\" + \".\" + str(date.getYear()+1)\n",
        "      df.loc[counter2,'Полученная дата'] = buf\n",
        "    if (re.findall(\"зима следующий год\",i)):\n",
        "      buf = str(date.getDay()) + \".\" + \"1\" + \".\" + str(date.getYear()+1) + \"-\" + str(date.getDay()) + \".\" + \"2\" + \".\" + str(date.getYear()+1) + \";\" + str(date.getDay()) + \".\" + \"12\" + \".\" + str(date.getYear()+1)\n",
        "      df.loc[counter2,'Полученная дата'] = buf\n",
        "    if (re.findall(\"весна следующий год\",i)):\n",
        "      buf = str(date.getDay()) + \".\" + \"3\" + \".\" + str(date.getYear()+1) + \"-\" + str(date.getDay()) + \".\" + \"5\" + \".\" + str(date.getYear()+1)\n",
        "      df.loc[counter2,'Полученная дата'] = buf\n",
        "      #333333333333333333333333333333333\n",
        "    if (re.findall(\"лето прошлый год\",i)):\n",
        "      buf = str(date.getDay()) + \".\" + \"6\" + \".\" + str(date.getYear()-1) + \"-\" + str(date.getDay()) + \".\" + \"8\" + \".\" + str(date.getYear()-1)\n",
        "      df.loc[counter2,'Полученная дата'] = buf\n",
        "    if (re.findall(\"осень прошлый год\",i)):\n",
        "      buf = str(date.getDay()) + \".\" + \"9\" + \".\" + str(date.getYear()-1) + \"-\" + str(date.getDay()) + \".\" + \"11\" + \".\" + str(date.getYear()-1)\n",
        "      df.loc[counter2,'Полученная дата'] = buf\n",
        "    if (re.findall(\"зима прошлый год\",i)):\n",
        "      buf = str(date.getDay()) + \".\" + \"1\" + \".\" + str(date.getYear()-1) + \"-\" + str(date.getDay()) + \".\" + \"2\" + \".\" + str(date.getYear()-1) + \";\" + str(date.getDay()) + \".\" + \"12\" + \".\" + str(date.getYear()-1)\n",
        "      df.loc[counter2,'Полученная дата'] = buf\n",
        "    if (re.findall(\"весна прошлый год\",i)):\n",
        "      buf = str(date.getDay()) + \".\" + \"3\" + \".\" + str(date.getYear()-1) + \"-\" + str(date.getDay()) + \".\" + \"5\" + \".\" + str(date.getYear()-1)\n",
        "      df.loc[counter2,'Полученная дата'] = buf\n",
        "      #333333333333333333333333333333333\n",
        "    if (re.findall(\"лето позапрошлый год\",i)):\n",
        "      buf = str(date.getDay()) + \".\" + \"6\" + \".\" + str(date.getYear()-2) + \"-\" + str(date.getDay()) + \".\" + \"8\" + \".\" + str(date.getYear()-2)\n",
        "      df.loc[counter2,'Полученная дата'] = buf\n",
        "    if (re.findall(\"осень позапрошлый год\",i)):\n",
        "      buf = str(date.getDay()) + \".\" + \"9\" + \".\" + str(date.getYear()-2) + \"-\" + str(date.getDay()) + \".\" + \"11\" + \".\" + str(date.getYear()-2)\n",
        "      df.loc[counter2,'Полученная дата'] = buf\n",
        "    if (re.findall(\"зима позапрошлый год\",i)):\n",
        "      buf = str(date.getDay()) + \".\" + \"1\" + \".\" + str(date.getYear()-2) + \"-\" + str(date.getDay()) + \".\" + \"2\" + \".\" + str(date.getYear()-2) + \";\" + str(date.getDay()) + \".\" + \"12\" + \".\" + str(date.getYear()-2)\n",
        "      df.loc[counter2,'Полученная дата'] = buf\n",
        "    if (re.findall(\"весна позапрошлый год\",i)):\n",
        "      buf = str(date.getDay()) + \".\" + \"3\" + \".\" + str(date.getYear()-2) + \"-\" + str(date.getDay()) + \".\" + \"5\" + \".\" + str(date.getYear()-2)\n",
        "      df.loc[counter2,'Полученная дата'] = buf\n",
        "    print(29)\n",
        "  elif (re.findall(\"((?:прошлый|текущий|следующий|этот|прошедший|будущий|позапрошлый|вчерашний)+ (?:год|день|месяц|неделя)+)+\",i)):\n",
        "    if (re.findall(\"((?:прошлый)+ (?:год)+)+\",i)):\n",
        "      buf = -1\n",
        "      df.loc[counter2,'Полученная дата'] = date.getPlusDateYear(int(buf))\n",
        "    if (re.findall(\"((?:текущий)+ (?:год)+)+\",i)):\n",
        "      buf = str(date.getDay()) + \".\" + str(date.getMonth()) + \".\" + str(date.getYear())\n",
        "      df.loc[counter2,'Полученная дата'] = buf\n",
        "    if (re.findall(\"((?:этот)+ (?:год)+)+\",i)):\n",
        "      buf = str(date.getDay()) + \".\" + str(date.getMonth()) + \".\" + str(date.getYear())\n",
        "      df.loc[counter2,'Полученная дата'] = buf\n",
        "    if (re.findall(\"((?:следующий)+ (?:год)+)+\",i)):\n",
        "      buf = 1\n",
        "      df.loc[counter2,'Полученная дата'] = date.getPlusDateYear(int(buf))\n",
        "    if (re.findall(\"((?:прошедший)+ (?:год)+)+\",i)):\n",
        "      buf = -1\n",
        "      df.loc[counter2,'Полученная дата'] = date.getPlusDateYear(int(buf))\n",
        "    if (re.findall(\"((?:будущий)+ (?:год)+)+\",i)):\n",
        "      buf = 1\n",
        "      df.loc[counter2,'Полученная дата'] = date.getPlusDateYear(int(buf))\n",
        "    if (re.findall(\"((?:позапрошлый)+ (?:год)+)+\",i)):\n",
        "      buf = -2\n",
        "      df.loc[counter2,'Полученная дата'] = date.getPlusDateYear(int(buf))\n",
        "    #333333333333333333333333333333333333333333\n",
        "    if (re.findall(\"((?:вчерашний)+ (?:день)+)+\",i)):\n",
        "      buf = -1\n",
        "      df.loc[counter2,'Полученная дата'] = date.getPlusDateDay(int(buf))\n",
        "    if (re.findall(\"((?:текущий)+ (?:день)+)+\",i)):\n",
        "      buf = str(date.getDay()) + \".\" + str(date.getMonth()) + \".\" + str(date.getYear())\n",
        "      df.loc[counter2,'Полученная дата'] = buf\n",
        "    if (re.findall(\"((?:этот)+ (?:день)+)+\",i)):\n",
        "      buf = str(date.getDay()) + \".\" + str(date.getMonth()) + \".\" + str(date.getYear())\n",
        "      df.loc[counter2,'Полученная дата'] = buf\n",
        "    if (re.findall(\"((?:следующий)+ (?:день)+)+\",i)):\n",
        "      buf = 1\n",
        "      df.loc[counter2,'Полученная дата'] = date.getPlusDateDay(int(buf))\n",
        "    if (re.findall(\"((?:прошедший)+ (?:день)+)+\",i)):\n",
        "      buf = -1\n",
        "      df.loc[counter2,'Полученная дата'] = date.getPlusDateDay(int(buf))\n",
        "    if (re.findall(\"((?:будущий)+ (?:день)+)+\",i)):\n",
        "      buf = 1\n",
        "      df.loc[counter2,'Полученная дата'] = date.getPlusDateDay(int(buf))\n",
        "    if (re.findall(\"((?:позапрошлый)+ (?:день)+)+\",i)):\n",
        "      buf = -2\n",
        "      df.loc[counter2,'Полученная дата'] = date.getPlusDateDay(int(buf))\n",
        "    #333333333333333333333333333333333333333333\n",
        "    if (re.findall(\"((?:прошлый)+ (?:неделя)+)+\",i)):\n",
        "      buf = -7\n",
        "      df.loc[counter2,'Полученная дата'] = date.getPlusDateDay(int(buf))\n",
        "    if (re.findall(\"((?:текущий)+ (?:неделя)+)+\",i)):\n",
        "      buf = str(date.getDay()) + \".\" + str(date.getMonth()) + \".\" + str(date.getYear())\n",
        "      df.loc[counter2,'Полученная дата'] = buf\n",
        "    if (re.findall(\"((?:этот)+ (?:неделя)+)+\",i)):\n",
        "      buf = str(date.getDay()) + \".\" + str(date.getMonth()) + \".\" + str(date.getYear())\n",
        "      df.loc[counter2,'Полученная дата'] = buf\n",
        "    if (re.findall(\"((?:следующий)+ (?:неделя)+)+\",i)):\n",
        "      buf = 7\n",
        "      df.loc[counter2,'Полученная дата'] = date.getPlusDateDay(int(buf))\n",
        "    if (re.findall(\"((?:прошедший)+ (?:неделя)+)+\",i)):\n",
        "      buf = -7\n",
        "      df.loc[counter2,'Полученная дата'] = date.getPlusDateDay(int(buf))\n",
        "    if (re.findall(\"((?:будущий)+ (?:неделя)+)+\",i)):\n",
        "      buf = 7\n",
        "      df.loc[counter2,'Полученная дата'] = date.getPlusDateDay(int(buf))\n",
        "    if (re.findall(\"((?:позапрошлый)+ (?:неделя)+)+\",i)):\n",
        "      buf = -14\n",
        "      df.loc[counter2,'Полученная дата'] = date.getPlusDateDay(int(buf))\n",
        "    #33333333333333333333333333333333333333333333\n",
        "    if (re.findall(\"((?:прошлый)+ (?:месяц)+)+\",i)):\n",
        "      buf = -1\n",
        "      df.loc[counter2,'Полученная дата'] = date.getPlusDateMonth(int(buf))\n",
        "    if (re.findall(\"((?:текущий)+ (?:месяц)+)+\",i)):\n",
        "      buf = str(date.getDay()) + \".\" + str(date.getMonth()) + \".\" + str(date.getYear())\n",
        "      df.loc[counter2,'Полученная дата'] = buf\n",
        "    if (re.findall(\"((?:этот)+ (?:месяц)+)+\",i)):\n",
        "      buf = str(date.getDay()) + \".\" + str(date.getMonth()) + \".\" + str(date.getYear())\n",
        "      df.loc[counter2,'Полученная дата'] = buf\n",
        "    if (re.findall(\"((?:следующий)+ (?:месяц)+)+\",i)):\n",
        "      buf = 1\n",
        "      df.loc[counter2,'Полученная дата'] = date.getPlusDateMonth(int(buf))\n",
        "    if (re.findall(\"((?:прошедший)+ (?:месяц)+)+\",i)):\n",
        "      buf = -1\n",
        "      df.loc[counter2,'Полученная дата'] = date.getPlusDateMonth(int(buf))\n",
        "    if (re.findall(\"((?:будущий)+ (?:месяц)+)+\",i)):\n",
        "      buf = 1\n",
        "      df.loc[counter2,'Полученная дата'] = date.getPlusDateMonth(int(buf))\n",
        "    if (re.findall(\"((?:позапрошлый)+ (?:месяц)+)+\",i)):\n",
        "      buf = -2\n",
        "      df.loc[counter2,'Полученная дата'] = date.getPlusDateMonth(int(buf))\n",
        "    print(27)\n",
        "  elif (re.findall(\"(?:\\d{1,}[.]\\d{1,})+\",i)):\n",
        "    if \".\" in (re.findall(\"(\\d{1,}[.-]\\d{1,})+\",i))[0]:\n",
        "      buf = (re.findall(\"(\\d{1,}[.-]\\d{1,})+\",i))\n",
        "      buf = buf[0].split(\".\")\n",
        "      buf = str(buf[0]) + \".\" + str(buf[1]) + \".\" + str(date.getYear())\n",
        "      df.loc[counter2,'Полученная дата'] = buf\n",
        "    print(28)\n",
        "  elif (re.findall(\"((?:весна|лето|осень|зима)+ \\d{1,})+\",i)):\n",
        "    bufYear = re.findall(\"\\d{1,}\",i)\n",
        "    if (re.findall(\"(?:лето) \\d{1,}\",i)):\n",
        "      buf = str(date.getDay()) + \".\" + \"6\" + \".\" + bufYear[0] + \"-\" + str(date.getDay()) + \".\" + \"8\" + \".\" + bufYear[0]\n",
        "      df.loc[counter2,'Полученная дата'] = buf\n",
        "    if (re.findall(\"(?:осень) \\d{1,}\",i)):\n",
        "      buf = str(date.getDay()) + \".\" + \"9\" + \".\" + bufYear[0] + \"-\" + str(date.getDay()) + \".\" + \"11\" + \".\" + bufYear[0]\n",
        "      df.loc[counter2,'Полученная дата'] = buf\n",
        "    if (re.findall(\"(?:зима) \\d{1,}\",i)):\n",
        "      buf = str(date.getDay()) + \".\" + \"1\" + \".\" + bufYear[0] + \";\" + str(date.getDay()) + \".\" + \"2\" + \".\" + bufYear[0] + \";\" + str(date.getDay()) + \".\" + \"12\" + \".\" + bufYear[0]\n",
        "      df.loc[counter2,'Полученная дата'] = buf\n",
        "    if (re.findall(\"(?:весна) \\d{1,}\",i)):\n",
        "      buf = str(date.getDay()) + \".\" + \"3\" + \".\" + bufYear[0] + \"-\" + str(date.getDay()) + \".\" + \"5\" + \".\" + bufYear[0]\n",
        "      df.loc[counter2,'Полученная дата'] = buf\n",
        "    print(30)\n",
        "  elif (re.findall(\"((?:\\d{1,}-\\d{1,})+ (?:квартал)+ (?:\\d{1,})+)+\",i)):\n",
        "    buf = re.findall(\"((?:\\d{1,}-\\d{1,})+ (?:квартал)+ (?:\\d{1,})+)+\",i)\n",
        "    buf = buf[0].split(\"-\")\n",
        "    first = buf[0]\n",
        "    second = buf[1].split(\" \")\n",
        "    third = second[2]\n",
        "    second = second[0]\n",
        "    if int(first) == 1 and int(second) == 2:\n",
        "      buf = str(date.getDay()) + '.' + \"1\" + \".\" + str(third) + \"-\" + str(date.getDay()) + '.' + \"6\" + \".\" + str(third)\n",
        "    if int(first) == 1 and int(second) == 3:\n",
        "      buf = str(date.getDay()) + '.' + \"1\" + \".\" + str(third) + \"-\" + str(date.getDay()) + '.' + \"9\" + \".\" + str(third)\n",
        "    if int(first) == 1 and int(second) == 4:\n",
        "      buf = str(date.getDay()) + '.' + \"1\" + \".\" + str(third) + \"-\" + str(date.getDay()) + '.' + \"12\" + \".\" + str(third)\n",
        "    if int(first) == 2 and int(second) == 3:\n",
        "      buf = str(date.getDay()) + '.' + \"4\" + \".\" + str(third) + \"-\" + str(date.getDay()) + '.' + \"9\" + \".\" + str(third)\n",
        "    if int(first) == 2 and int(second) == 4:\n",
        "      buf = str(date.getDay()) + '.' + \"4\" + \".\" + str(third) + \"-\" + str(date.getDay()) + '.' + \"12\" + \".\" + str(third)\n",
        "    if int(first) == 3 and int(second) == 4:\n",
        "      buf = str(date.getDay()) + '.' + \"7\" + \".\" + str(third) + \"-\" + str(date.getDay()) + '.' + \"12\" + \".\" + str(third)\n",
        "    df.loc[counter2,'Полученная дата'] = buf\n",
        "    print(31)\n",
        "  elif (re.findall(\"((?:\\d{1,})+ (?:квартал)+ (?:\\d{1,})+)+\",i)):\n",
        "    buf = re.findall(\"((?:\\d{1,})+ (?:квартал)+ (?:\\d{1,})+)+\",i)\n",
        "    buf = buf[0].split(\" \")\n",
        "    first = buf[0]\n",
        "    third = buf[2]\n",
        "    if int(first) == 1:\n",
        "      buf = str(date.getDay()) + '.' + \"1\" + \".\" + str(third) + \"-\" + str(date.getDay()) + '.' + \"3\" + \".\" + str(third)\n",
        "    if int(first) == 2:\n",
        "      buf = str(date.getDay()) + '.' + \"4\" + \".\" + str(third) + \"-\" + str(date.getDay()) + '.' + \"6\" + \".\" + str(third)\n",
        "    if int(first) == 3:\n",
        "      buf = str(date.getDay()) + '.' + \"7\" + \".\" + str(third) + \"-\" + str(date.getDay()) + '.' + \"9\" + \".\" + str(third)\n",
        "    if int(first) == 4:\n",
        "      buf = str(date.getDay()) + '.' + \"10\" + \".\" + str(third) + \"-\" + str(date.getDay()) + '.' + \"12\" + \".\" + str(third)\n",
        "    df.loc[counter2,'Полученная дата'] = buf\n",
        "    print(32)\n",
        "  elif (re.findall(\"(?:\\d{1,})+ (?:половина)+ (?:январь|февраль|март|апрель|май|июнь|июль|август|сентябрь|октябрь|ноябрь|декабрь|янв|февр|апр|авг|сент|окт|нояб|дек)+\",i)):\n",
        "    buf = (re.findall(\"(?:\\d{1,})+ (?:половина)+ (?:январь|февраль|март|апрель|май|июнь|июль|август|сентябрь|октябрь|ноябрь|декабрь|янв|февр|апр|авг|сент|окт|нояб|дек)+\",i))\n",
        "    buf = buf[0].split(\" \")\n",
        "    if int(buf[0]) == 1 and str(get_key(dict_months2,buf[2]) in highMonth):\n",
        "      buf = \"1\" + \".\" + str(get_key(dict_months2,buf[2])) + \".\" + str(date.getYear()) + \"-\" + '15' + \".\" + str(get_key(dict_months2,buf[2])) + \".\" + str(date.getYear())\n",
        "    if int(buf[0]) == 1 and str(get_key(dict_months2,buf[2]) in lowMonth):\n",
        "      buf = \"1\" + \".\" + str(get_key(dict_months2,buf[2])) + \".\" + str(date.getYear()) + \"-\" + '15' + \".\" + str(get_key(dict_months2,buf[2])) + \".\" + str(date.getYear())\n",
        "    if int(buf[0]) == 1 and str(get_key(dict_months2,buf[2]) == \"2\" and int(date.getYear()) % 4 != 0):\n",
        "      buf = \"1\" + \".\" + str(get_key(dict_months2,buf[2])) + \".\" + str(date.getYear()) + \"-\" + '14' + \".\" + str(get_key(dict_months2,buf[2])) + \".\" + str(date.getYear())\n",
        "    if int(buf[0]) == 1 and str(get_key(dict_months2,buf[2]) == \"2\" and int(date.getYear()) % 4 == 0):\n",
        "      buf = \"1\" + \".\" + str(get_key(dict_months2,buf[2])) + \".\" + str(date.getYear()) + \"-\" + '14' + \".\" + str(get_key(dict_months2,buf[2])) + \".\" + str(date.getYear())\n",
        "    if int(buf[0]) == 2 and str(get_key(dict_months2,buf[2]) in highMonth):\n",
        "      buf = \"15\" + \".\" + str(get_key(dict_months2,buf[2])) + \".\" + str(date.getYear()) + \"-\" + '31' + \".\" + str(get_key(dict_months2,buf[2])) + \".\" + str(date.getYear())\n",
        "    if int(buf[0]) == 2 and str(get_key(dict_months2,buf[2]) in lowMonth):\n",
        "      buf = \"15\" + \".\" + str(get_key(dict_months2,buf[2])) + \".\" + str(date.getYear()) + \"-\" + '30' + \".\" + str(get_key(dict_months2,buf[2])) + \".\" + str(date.getYear())\n",
        "    if int(buf[0]) == 2 and str(get_key(dict_months2,buf[2]) == \"2\" and int(date.getYear()) % 4 != 0):\n",
        "      buf = \"14\" + \".\" + str(get_key(dict_months2,buf[2])) + \".\" + str(date.getYear()) + \"-\" + '28' + \".\" + str(get_key(dict_months2,buf[2])) + \".\" + str(date.getYear())\n",
        "    if int(buf[0]) == 2 and str(get_key(dict_months2,buf[2]) == \"2\" and int(date.getYear()) % 4 == 0):\n",
        "      buf = \"14\" + \".\" + str(get_key(dict_months2,buf[2])) + \".\" + str(date.getYear()) + \"-\" + '29' + \".\" + str(get_key(dict_months2,buf[2])) + \".\" + str(date.getYear())\n",
        "    df.loc[counter2,'Полученная дата'] = buf\n",
        "    print(35)\n",
        "  elif (re.findall(\"(?:\\d{1,})+ (?:полугодие)+ (?:\\d{1,})+\",i)):\n",
        "    buf = (re.findall(\"(?:\\d{1,})+ (?:полугодие)+ (?:\\d{1,})+\",i))\n",
        "    buf = buf[0].split(\" \")\n",
        "    if int(buf[0]) == 1:\n",
        "      buf = str(date.getDay()) + \".1.\" + str(date.getYear()) + \"-\" + str(date.getDay()) + \".6.\" + str(buf[2])\n",
        "    if int(buf[0]) == 2:\n",
        "      buf = str(date.getDay()) + \".7.\" + str(date.getYear()) + \"-\" + str(date.getDay()) + \".12.\" + str(buf[2])\n",
        "    df.loc[counter2,'Полученная дата'] = buf\n",
        "    print(36)\n",
        "  elif (re.findall(\"(?:\\d{1,})+ (?:полугодие)+\",i)):\n",
        "    buf = (re.findall(\"(?:\\d{1,})+ (?:полугодие)+ (?:\\d{1,})+\",i))\n",
        "    buf = buf[0].split(\" \")\n",
        "    if int(buf[0]) == 1:\n",
        "      buf = str(date.getDay()) + \".1.\" + str(date.getYear()) + \"-\" + str(date.getDay()) + \".6.\" + str(date.getYear())\n",
        "    if int(buf[0]) == 2:\n",
        "      buf = str(date.getDay()) + \".7.\" + str(date.getYear()) + \"-\" + str(date.getDay()) + \".12.\" + str(date.getYear())\n",
        "    df.loc[counter2,'Полученная дата'] = buf\n",
        "    print(36)\n",
        "  elif (re.findall(\"(?:январь|февраль|март|апрель|май|июнь|июль|август|сентябрь|октябрь|ноябрь|декабрь|янв|февр|апр|авг|сент|окт|нояб|дек)+\",i)):\n",
        "    buf = (re.findall(\"(январь|февраль|март|апрель|май|июнь|июль|август|сентябрь|октябрь|ноябрь|декабрь|янв|февр|апр|авг|сент|окт|нояб|дек)+\",i))\n",
        "    buf = buf[0].split(\" \")\n",
        "    buf = str(date.getDay()) + \".\" + str(get_key(dict_months2,buf[0])) + \".\" + str(date.getYear())\n",
        "    df.loc[counter2,'Полученная дата'] = buf\n",
        "    print(34)\n",
        "  counter2+=1\n",
        "df"
      ],
      "execution_count": null,
      "outputs": [
        {
          "output_type": "stream",
          "text": [
            "15 май 2255\n",
            "17\n"
          ],
          "name": "stdout"
        },
        {
          "output_type": "execute_result",
          "data": {
            "text/html": [
              "<div>\n",
              "<style scoped>\n",
              "    .dataframe tbody tr th:only-of-type {\n",
              "        vertical-align: middle;\n",
              "    }\n",
              "\n",
              "    .dataframe tbody tr th {\n",
              "        vertical-align: top;\n",
              "    }\n",
              "\n",
              "    .dataframe thead th {\n",
              "        text-align: right;\n",
              "    }\n",
              "</style>\n",
              "<table border=\"1\" class=\"dataframe\">\n",
              "  <thead>\n",
              "    <tr style=\"text-align: right;\">\n",
              "      <th></th>\n",
              "      <th>Найденная(-ое) дата (время)</th>\n",
              "      <th>Полученная дата</th>\n",
              "    </tr>\n",
              "  </thead>\n",
              "  <tbody>\n",
              "    <tr>\n",
              "      <th>0</th>\n",
              "      <td>15 май 2255</td>\n",
              "      <td>15.5.2255</td>\n",
              "    </tr>\n",
              "  </tbody>\n",
              "</table>\n",
              "</div>"
            ],
            "text/plain": [
              "  Найденная(-ое) дата (время) Полученная дата\n",
              "0                 15 май 2255       15.5.2255"
            ]
          },
          "metadata": {
            "tags": []
          },
          "execution_count": 45
        }
      ]
    },
    {
      "cell_type": "code",
      "metadata": {
        "id": "uGnu-0yjpyPI",
        "colab": {
          "base_uri": "https://localhost:8080/",
          "height": 77
        },
        "outputId": "1b195d68-8900-4d94-89d4-0af0709d9d2d"
      },
      "source": [
        "df.head(30)"
      ],
      "execution_count": null,
      "outputs": [
        {
          "output_type": "execute_result",
          "data": {
            "text/html": [
              "<div>\n",
              "<style scoped>\n",
              "    .dataframe tbody tr th:only-of-type {\n",
              "        vertical-align: middle;\n",
              "    }\n",
              "\n",
              "    .dataframe tbody tr th {\n",
              "        vertical-align: top;\n",
              "    }\n",
              "\n",
              "    .dataframe thead th {\n",
              "        text-align: right;\n",
              "    }\n",
              "</style>\n",
              "<table border=\"1\" class=\"dataframe\">\n",
              "  <thead>\n",
              "    <tr style=\"text-align: right;\">\n",
              "      <th></th>\n",
              "      <th>Найденная(-ое) дата (время)</th>\n",
              "      <th>Полученная дата</th>\n",
              "    </tr>\n",
              "  </thead>\n",
              "  <tbody>\n",
              "    <tr>\n",
              "      <th>0</th>\n",
              "      <td>15 май 2255</td>\n",
              "      <td>15.5.2255</td>\n",
              "    </tr>\n",
              "  </tbody>\n",
              "</table>\n",
              "</div>"
            ],
            "text/plain": [
              "  Найденная(-ое) дата (время) Полученная дата\n",
              "0                 15 май 2255       15.5.2255"
            ]
          },
          "metadata": {
            "tags": []
          },
          "execution_count": 46
        }
      ]
    },
    {
      "cell_type": "code",
      "metadata": {
        "colab": {
          "base_uri": "https://localhost:8080/",
          "height": 47
        },
        "id": "f2emUBdFYRcS",
        "outputId": "a1470ee4-cace-49c8-86f1-4e84cf278938"
      },
      "source": [
        "df[30:69]"
      ],
      "execution_count": null,
      "outputs": [
        {
          "output_type": "execute_result",
          "data": {
            "text/html": [
              "<div>\n",
              "<style scoped>\n",
              "    .dataframe tbody tr th:only-of-type {\n",
              "        vertical-align: middle;\n",
              "    }\n",
              "\n",
              "    .dataframe tbody tr th {\n",
              "        vertical-align: top;\n",
              "    }\n",
              "\n",
              "    .dataframe thead th {\n",
              "        text-align: right;\n",
              "    }\n",
              "</style>\n",
              "<table border=\"1\" class=\"dataframe\">\n",
              "  <thead>\n",
              "    <tr style=\"text-align: right;\">\n",
              "      <th></th>\n",
              "      <th>Найденная(-ое) дата (время)</th>\n",
              "      <th>Полученная дата</th>\n",
              "    </tr>\n",
              "  </thead>\n",
              "  <tbody>\n",
              "  </tbody>\n",
              "</table>\n",
              "</div>"
            ],
            "text/plain": [
              "Empty DataFrame\n",
              "Columns: [Найденная(-ое) дата (время), Полученная дата]\n",
              "Index: []"
            ]
          },
          "metadata": {
            "tags": []
          },
          "execution_count": 47
        }
      ]
    },
    {
      "cell_type": "code",
      "metadata": {
        "id": "KhfFB_LfYZ0M"
      },
      "source": [
        "df = df.dropna(axis='index', how='any', subset=['Полученная дата'])\n"
      ],
      "execution_count": null,
      "outputs": []
    },
    {
      "cell_type": "code",
      "metadata": {
        "colab": {
          "base_uri": "https://localhost:8080/",
          "height": 77
        },
        "id": "ItjuYR_eWmQ1",
        "outputId": "a8d9b5d3-0f61-44ca-8ea6-63888a88a9cc"
      },
      "source": [
        "df.head(30)"
      ],
      "execution_count": null,
      "outputs": [
        {
          "output_type": "execute_result",
          "data": {
            "text/html": [
              "<div>\n",
              "<style scoped>\n",
              "    .dataframe tbody tr th:only-of-type {\n",
              "        vertical-align: middle;\n",
              "    }\n",
              "\n",
              "    .dataframe tbody tr th {\n",
              "        vertical-align: top;\n",
              "    }\n",
              "\n",
              "    .dataframe thead th {\n",
              "        text-align: right;\n",
              "    }\n",
              "</style>\n",
              "<table border=\"1\" class=\"dataframe\">\n",
              "  <thead>\n",
              "    <tr style=\"text-align: right;\">\n",
              "      <th></th>\n",
              "      <th>Найденная(-ое) дата (время)</th>\n",
              "      <th>Полученная дата</th>\n",
              "    </tr>\n",
              "  </thead>\n",
              "  <tbody>\n",
              "    <tr>\n",
              "      <th>0</th>\n",
              "      <td>15 май 2255</td>\n",
              "      <td>15.5.2255</td>\n",
              "    </tr>\n",
              "  </tbody>\n",
              "</table>\n",
              "</div>"
            ],
            "text/plain": [
              "  Найденная(-ое) дата (время) Полученная дата\n",
              "0                 15 май 2255       15.5.2255"
            ]
          },
          "metadata": {
            "tags": []
          },
          "execution_count": 49
        }
      ]
    },
    {
      "cell_type": "code",
      "metadata": {
        "colab": {
          "base_uri": "https://localhost:8080/",
          "height": 47
        },
        "id": "q95BRoNVWlvk",
        "outputId": "c8d5b3b2-0382-4fa9-bfcc-3faedc6402aa"
      },
      "source": [
        "df[30:69]"
      ],
      "execution_count": null,
      "outputs": [
        {
          "output_type": "execute_result",
          "data": {
            "text/html": [
              "<div>\n",
              "<style scoped>\n",
              "    .dataframe tbody tr th:only-of-type {\n",
              "        vertical-align: middle;\n",
              "    }\n",
              "\n",
              "    .dataframe tbody tr th {\n",
              "        vertical-align: top;\n",
              "    }\n",
              "\n",
              "    .dataframe thead th {\n",
              "        text-align: right;\n",
              "    }\n",
              "</style>\n",
              "<table border=\"1\" class=\"dataframe\">\n",
              "  <thead>\n",
              "    <tr style=\"text-align: right;\">\n",
              "      <th></th>\n",
              "      <th>Найденная(-ое) дата (время)</th>\n",
              "      <th>Полученная дата</th>\n",
              "    </tr>\n",
              "  </thead>\n",
              "  <tbody>\n",
              "  </tbody>\n",
              "</table>\n",
              "</div>"
            ],
            "text/plain": [
              "Empty DataFrame\n",
              "Columns: [Найденная(-ое) дата (время), Полученная дата]\n",
              "Index: []"
            ]
          },
          "metadata": {
            "tags": []
          },
          "execution_count": 50
        }
      ]
    },
    {
      "cell_type": "markdown",
      "metadata": {
        "id": "Dsmo_F3JqJ4n"
      },
      "source": [
        ""
      ]
    }
  ]
}